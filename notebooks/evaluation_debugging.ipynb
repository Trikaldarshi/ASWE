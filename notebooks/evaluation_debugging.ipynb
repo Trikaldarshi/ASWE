{
 "cells": [
  {
   "cell_type": "code",
   "execution_count": 1,
   "metadata": {},
   "outputs": [],
   "source": [
    "\"\"\"\n",
    "Calculation of metric AP-SD (subword discrimination task) and AP-RW (reconstructed word)\n",
    "\n",
    "Author: Amit Meghanani\n",
    "\n",
    "Contact: ameghanani1@sheffield.ac.uk\n",
    "\n",
    "\"\"\"\n",
    "import argparse\n",
    "# import wandb\n",
    "import random\n",
    "import sys\n",
    "import os\n",
    "import numpy as np\n",
    "import pandas as pd\n",
    "import torch\n",
    "from collections import Counter\n",
    "from os import path\n",
    "sys.path.append(os.path.abspath(os.path.join('..')))\n",
    "from utility_functions.factorization_dataloader import dataset_embedding\n",
    "from utility_functions.factorisation_model import fact_net\n",
    "from utility_functions.utils_function import average_precision, metric2\n",
    "from ast import literal_eval\n",
    "import torch.nn.functional as F\n",
    "from scipy.spatial.distance import cdist\n",
    "from sklearn.manifold import TSNE\n",
    "import seaborn as sns\n",
    "import matplotlib.pyplot as plt\n",
    "%matplotlib inline"
   ]
  },
  {
   "cell_type": "code",
   "execution_count": 2,
   "metadata": {},
   "outputs": [],
   "source": [
    "\n",
    "def cal_precision(model, loader, device, class_to_idx, distance):\n",
    "    sub_embeddings, sub_words, words, unique_id = [], [], [], []\n",
    "    s1,s2,s3,e1,e2,e3 = [],[],[],[],[],[]\n",
    "    model = model.eval()\n",
    "    with torch.no_grad():\n",
    "        for idx, (emb, tokens, _, word_name, sp_ch_id) in enumerate(loader):\n",
    "            tokens = torch.from_numpy(np.vectorize(class_to_idx.get)(np.array(tokens)))\n",
    "            emb, tokens = emb.to(device), tokens.to(device)\n",
    "        \n",
    "            emb1, emb2, emb3 = model(emb)[0:3]\n",
    "            l1 = tokens[0, :]\n",
    "            l2 = tokens[1, :]\n",
    "            l3 = tokens[2, :]\n",
    "            # x1 is the first sub-word of the words in batch, same for x2, x3\n",
    "            sub_embeddings.append(emb1)\n",
    "            sub_embeddings.append(emb2)\n",
    "            sub_embeddings.append(emb3)\n",
    "            \n",
    "            sub_words.append(l1.cpu())\n",
    "            sub_words.append(l2.cpu())\n",
    "            sub_words.append(l3.cpu())\n",
    "            unique_id.append(sp_ch_id*3)\n",
    "            words.append(word_name*3)\n",
    "            s1.append(l1)\n",
    "            s2.append(l2)\n",
    "            s3.append(l3)\n",
    "            e1.append(emb1)\n",
    "            e2.append(emb2)\n",
    "            e3.append(emb3)\n",
    "\n",
    "    words = np.concatenate(words)       \n",
    "    sub_words = np.concatenate(sub_words)\n",
    "    s1 = np.concatenate(s1)\n",
    "    s2 = np.concatenate(s2)\n",
    "    s3 = np.concatenate(s3)\n",
    "\n",
    "    unique_id = np.concatenate(unique_id)\n",
    "    u_sub_words = np.unique(sub_words)\n",
    "    sub_word2id = {v: k for k, v in enumerate(u_sub_words)}\n",
    "    ids = [sub_word2id[w] for w in sub_words]\n",
    "    sub_embeddings, ids = torch.cat(sub_embeddings,0).detach().cpu(), np.array(ids)\n",
    "\n",
    "    e1 = torch.cat(e1,0).to(torch.float16)\n",
    "    e2 = torch.cat(e2,0).to(torch.float16)\n",
    "    e3 = torch.cat(e3,0).to(torch.float16)\n",
    "    return s1,s2,s3,e1,e2,e3,sub_embeddings, sub_words, unique_id, ids, words\n",
    "    "
   ]
  },
  {
   "cell_type": "code",
   "execution_count": 3,
   "metadata": {},
   "outputs": [
    {
     "data": {
      "text/plain": [
       "<torch._C.Generator at 0x7ff1a434a1b0>"
      ]
     },
     "execution_count": 3,
     "metadata": {},
     "output_type": "execute_result"
    }
   ],
   "source": [
    "\n",
    "torch.manual_seed(3112)\n",
    "torch.cuda.manual_seed(3112)\n",
    "torch.cuda.manual_seed_all(3112)\n",
    "np.random.seed(3112)\n",
    "random.seed(3112)\n",
    "\n",
    "def seed_worker(worker_id):\n",
    "    worker_seed = torch.initial_seed() % 2**32\n",
    "    np.random.seed(worker_seed)\n",
    "    random.seed(worker_seed)\n",
    "\n",
    "g = torch.Generator()\n",
    "g.manual_seed(3121)\n"
   ]
  },
  {
   "cell_type": "code",
   "execution_count": 4,
   "metadata": {},
   "outputs": [],
   "source": [
    "input_dim=128\n",
    "base_dir = '/home/amitmeghanani/H-drive'\n",
    "metadata_file='fastdata/acw21am/private/hubert_features/embeddings'\n",
    "model_loc='../checkpoints/model_factorisation/L2_True_HUBERT/fact_True_cpu_BEST.pt'\n",
    "embedding_loc='fastdata/acw21am/private/hubert_features/embeddings'\n",
    "batch_size=256\n",
    "sub_embedding_dim=128\n",
    "distance=\"cosine\"\n",
    "proj=True\n",
    "norm=True\n",
    "shuffle_pos=False"
   ]
  },
  {
   "cell_type": "code",
   "execution_count": 5,
   "metadata": {},
   "outputs": [
    {
     "name": "stdout",
     "output_type": "stream",
     "text": [
      "available device: cpu\n"
     ]
    }
   ],
   "source": [
    "\n",
    "\n",
    "# Check whether the specified text/dataframe meta file exists or not\n",
    "isExist = os.path.exists(os.path.join(base_dir, metadata_file))\n",
    "\n",
    "if not isExist:\n",
    "    print(metadata_file)\n",
    "    print(\"provide the correct path for the metadata file\")\n",
    "    sys.exit(1)\n",
    "\n",
    "\n",
    "# Check whether the specified output path exists or not\n",
    "isExist = os.path.exists(model_loc)\n",
    "\n",
    "# Create a new directory for output if it does not exist \n",
    "if not isExist:\n",
    "    print(model_loc)\n",
    "    print(\"provide the correct path for the model file\")\n",
    "    sys.exit(1)\n",
    "\n",
    "\n",
    "device = torch.device(\"cuda\" if torch.cuda.is_available() else \"cpu\")\n",
    "\n",
    "print(\"available device:\",device)\n",
    "\n",
    "if device.type == \"cuda\":\n",
    "    num_workers = 1\n",
    "    pin_memory = True\n",
    "else:\n",
    "    num_workers = 0\n",
    "    pin_memory = False\n"
   ]
  },
  {
   "cell_type": "code",
   "execution_count": 6,
   "metadata": {},
   "outputs": [
    {
     "name": "stdout",
     "output_type": "stream",
     "text": [
      "using normalized word embeddings\n"
     ]
    }
   ],
   "source": [
    "if norm:\n",
    "    print(\"using normalized word embeddings\")\n",
    "    train_data = dataset_embedding(\n",
    "    metadata = os.path.join(base_dir, metadata_file, \"train_emb.csv\"),\n",
    "    embedding_mat = os.path.join(base_dir, embedding_loc, \"train_emb_norm.pt\")\n",
    "    )\n",
    "    val_data = dataset_embedding(\n",
    "    metadata = os.path.join(base_dir, metadata_file, \"val_emb.csv\"),\n",
    "    embedding_mat=os.path.join(base_dir, embedding_loc, \"val_emb_norm.pt\")\n",
    "    )\n",
    "    test_data = dataset_embedding(\n",
    "    metadata = os.path.join(base_dir, metadata_file, \"test_emb.csv\"),\n",
    "    embedding_mat = os.path.join(base_dir, embedding_loc, \"test_emb_norm.pt\")\n",
    "    )\n",
    "else:\n",
    "    print(\"using un normalized word embeddings\")\n",
    "    train_data = dataset_embedding(\n",
    "    metadata = os.path.join(base_dir, metadata_file, \"train_emb.csv\"),\n",
    "    embedding_mat = os.path.join(embedding_loc, \"train_emb.pt\")\n",
    "    )\n",
    "    val_data = dataset_embedding(\n",
    "    metadata = os.path.join(base_dir, metadata_file, \"val_emb.csv\"),\n",
    "    embedding_mat=os.path.join(embedding_loc, \"val_emb.pt\")\n",
    "    )\n",
    "    test_data = dataset_embedding(\n",
    "    metadata = os.path.join(base_dir, metadata_file, \"test_emb.csv\"),\n",
    "    embedding_mat = os.path.join(embedding_loc, \"test_emb.pt\")\n",
    "    )\n",
    "\n",
    "\n",
    "\n",
    "    print(\"length of training data:\",len(train_data))\n",
    "    print(\"length of validation data:\",len(val_data))\n",
    "    print(\"length of test data:\",len(test_data))"
   ]
  },
  {
   "cell_type": "code",
   "execution_count": 7,
   "metadata": {},
   "outputs": [],
   "source": [
    "\n",
    "train_loader = torch.utils.data.DataLoader(\n",
    "    train_data,\n",
    "    batch_size=batch_size,\n",
    "    shuffle=True,\n",
    "    collate_fn=None,\n",
    "    drop_last = False,\n",
    "    num_workers=num_workers,\n",
    "    pin_memory=pin_memory,\n",
    "    worker_init_fn=seed_worker,\n",
    "    generator=g\n",
    ")\n",
    "val_loader = torch.utils.data.DataLoader(\n",
    "    val_data,\n",
    "    batch_size=batch_size,\n",
    "    shuffle=True,\n",
    "    collate_fn=None,\n",
    "    drop_last = False,\n",
    "    num_workers=num_workers,\n",
    "    pin_memory=pin_memory,\n",
    "    worker_init_fn=seed_worker,\n",
    "    generator=g\n",
    ")\n",
    "test_loader = torch.utils.data.DataLoader(\n",
    "    test_data,\n",
    "    batch_size=batch_size,\n",
    "    shuffle=True,\n",
    "    collate_fn=None,\n",
    "    drop_last = False,\n",
    "    num_workers=num_workers,\n",
    "    pin_memory=pin_memory,\n",
    "    worker_init_fn=seed_worker,\n",
    "    generator=g\n",
    ")\n"
   ]
  },
  {
   "cell_type": "code",
   "execution_count": 8,
   "metadata": {},
   "outputs": [
    {
     "name": "stdout",
     "output_type": "stream",
     "text": [
      "total tokens: 152\n",
      "loaded model with projection layer\n"
     ]
    },
    {
     "data": {
      "text/plain": [
       "fact_net(\n",
       "  (fc1): Linear(in_features=128, out_features=512, bias=True)\n",
       "  (fc11): Linear(in_features=512, out_features=512, bias=True)\n",
       "  (fc111): Linear(in_features=512, out_features=128, bias=True)\n",
       "  (fc1111): Linear(in_features=128, out_features=152, bias=True)\n",
       "  (fc2): Linear(in_features=128, out_features=512, bias=True)\n",
       "  (fc22): Linear(in_features=512, out_features=512, bias=True)\n",
       "  (fc222): Linear(in_features=512, out_features=128, bias=True)\n",
       "  (fc2222): Linear(in_features=128, out_features=152, bias=True)\n",
       "  (fc3): Linear(in_features=128, out_features=512, bias=True)\n",
       "  (fc33): Linear(in_features=512, out_features=512, bias=True)\n",
       "  (fc333): Linear(in_features=512, out_features=128, bias=True)\n",
       "  (fc3333): Linear(in_features=128, out_features=152, bias=True)\n",
       "  (fc_projection): Linear(in_features=128, out_features=128, bias=True)\n",
       "  (dropout): Dropout(p=0.2, inplace=False)\n",
       ")"
      ]
     },
     "execution_count": 8,
     "metadata": {},
     "output_type": "execute_result"
    }
   ],
   "source": [
    "\n",
    "# define the class to sub-word labelled dictionary\n",
    "\n",
    "token_list = []\n",
    "for _, (_, tokens, _, _, _) in enumerate(train_loader):\n",
    "    token_list = token_list + tokens\n",
    "\n",
    "out = [item for t in token_list for item in t]\n",
    "dict_tokens = Counter(out)\n",
    "print(\"total tokens:\",len(dict_tokens))\n",
    "classes = dict_tokens.keys()\n",
    "idx_to_class = {i:j for i, j in enumerate(classes)}\n",
    "class_to_idx = {value:key for key,value in idx_to_class.items()}\n",
    "num_classes = len(dict_tokens)\n",
    "\n",
    "# Define the model\n",
    "model = fact_net(input_dim, sub_embedding_dim, num_classes, proj)\n",
    "model = model.to(device)       \n",
    "\n",
    "checkpoint = torch.load(model_loc, map_location=torch.device(device))\n",
    "\n",
    "model.load_state_dict(checkpoint['model_state_dict'])\n",
    "model.eval()"
   ]
  },
  {
   "cell_type": "code",
   "execution_count": 9,
   "metadata": {},
   "outputs": [
    {
     "name": "stdout",
     "output_type": "stream",
     "text": [
      "calculating AP-SD.........\n",
      "average precision on test set - ABX1 : 0.9448622483599991\n",
      "average precision on test set - ABX2  : 0.8882377653502612\n",
      "average precision on test set - ABX3 : 0.9374126799243435\n"
     ]
    }
   ],
   "source": [
    "## AP-SD metric\n",
    "print(\"calculating AP-SD.........\")\n",
    "s1,s2,s3,e1,e2,e3,sub_embeddings, _, _, ids, _ = cal_precision(model, test_loader, device, class_to_idx, distance)\n",
    "# test_avg_precision,_ = average_precision(sub_embeddings.cpu(),ids, args.distance,show_plot=False)\n",
    "# print(\"average precision on test set - AP-SD :\", test_avg_precision)\n",
    "\n",
    "test_avg_precision,_ = average_precision(e1.cpu(),s1, distance,show_plot=False)\n",
    "print(\"average precision on test set - ABX1 :\", test_avg_precision)\n",
    "\n",
    "test_avg_precision,_ = average_precision(e2.cpu(),s2,distance,show_plot=False)\n",
    "print(\"average precision on test set - ABX2  :\", test_avg_precision)\n",
    "\n",
    "# test_avg_precision,_ = abx(e2.cpu(),s2, s1,s3,args.distance,show_plot=False)\n",
    "# print(\"average precision on test set - ABX2 with different context:\", test_avg_precision)\n",
    "\n",
    "test_avg_precision,_ = average_precision(e3.cpu(),s3, distance,show_plot=False)\n",
    "print(\"average precision on test set - ABX3 :\", test_avg_precision)"
   ]
  },
  {
   "cell_type": "code",
   "execution_count": 10,
   "metadata": {},
   "outputs": [
    {
     "name": "stdout",
     "output_type": "stream",
     "text": [
      "calculating AP-RW.........\n",
      "extracting subword embedding for every position from the train set....\n"
     ]
    }
   ],
   "source": [
    "\n",
    "## AP-RW metric\n",
    "\n",
    "print(\"calculating AP-RW.........\")\n",
    "print(\"extracting subword embedding for every position from the train set....\")\n",
    "s1,s2,s3,e1,e2,e3,_, sub_words, unique_id, ids, words = cal_precision(model, train_loader, device, class_to_idx, distance)\n",
    "\n",
    "df_train_sub_metadata = pd.DataFrame()\n",
    "df_train_sub_metadata[\"unique_id\"] = unique_id\n",
    "df_train_sub_metadata[\"words\"] = words\n",
    "df_train_sub_metadata[\"ids\"] = ids\n",
    "df_train_sub_metadata[\"sub_words\"] = np.vectorize(idx_to_class.get)(sub_words)\n",
    "\n",
    "df_train_sub_metadata_plus = pd.DataFrame()\n",
    "df_train_sub_metadata_plus[\"s1\"] = np.vectorize(idx_to_class.get)(s1)\n",
    "df_train_sub_metadata_plus[\"s2\"] = np.vectorize(idx_to_class.get)(s2)\n",
    "df_train_sub_metadata_plus[\"s3\"] = np.vectorize(idx_to_class.get)(s3)\n",
    "\n",
    "if norm:\n",
    "    df_test_emb = torch.load(os.path.join(base_dir, embedding_loc, \"test_emb_norm.pt\"))\n",
    "    df_test_metadata = pd.read_csv(os.path.join(base_dir, metadata_file, \"test_emb.csv\"), converters={'tokenized': literal_eval})\n",
    "else:\n",
    "    df_test_emb = torch.load(os.path.join(base_dir, embedding_loc, \"test_emb.pt\"))\n",
    "    df_test_metadata = pd.read_csv(os.path.join(base_dir, metadata_file, \"test_emb.csv\"), converters={'tokenized': literal_eval})\n"
   ]
  },
  {
   "attachments": {},
   "cell_type": "markdown",
   "metadata": {},
   "source": [
    "## Plot subword embeddings for test set"
   ]
  },
  {
   "cell_type": "code",
   "execution_count": 169,
   "metadata": {},
   "outputs": [],
   "source": [
    "s1,s2,s3,e1,e2,e3,_, sub_words, unique_id, ids, words = cal_precision(model, test_loader, device, class_to_idx, distance)\n",
    "\n",
    "df_test_sub_metadata = pd.DataFrame()\n",
    "df_test_sub_metadata[\"unique_id\"] = unique_id\n",
    "df_test_sub_metadata[\"words\"] = words\n",
    "df_test_sub_metadata[\"ids\"] = ids\n",
    "df_test_sub_metadata[\"sub_words\"] = np.vectorize(idx_to_class.get)(sub_words)\n",
    "\n",
    "df_test_sub_metadata_plus = pd.DataFrame()\n",
    "df_test_sub_metadata_plus[\"s1\"] = np.vectorize(idx_to_class.get)(s1)\n",
    "df_test_sub_metadata_plus[\"s2\"] = np.vectorize(idx_to_class.get)(s2)\n",
    "df_test_sub_metadata_plus[\"s3\"] = np.vectorize(idx_to_class.get)(s3)\n"
   ]
  },
  {
   "cell_type": "code",
   "execution_count": 170,
   "metadata": {},
   "outputs": [],
   "source": [
    "# convert s1 to original subword\n",
    "s1 = np.vectorize(idx_to_class.get)(s1)"
   ]
  },
  {
   "cell_type": "code",
   "execution_count": 171,
   "metadata": {},
   "outputs": [
    {
     "name": "stdout",
     "output_type": "stream",
     "text": [
      "most frequent subwords: ['s', 'b', 'c', 'p', 'f']\n"
     ]
    }
   ],
   "source": [
    "# take the 5 most frequent subwords and corresponding entries in e1\n",
    "most_freq_subwords = Counter(s1).most_common(5)\n",
    "most_freq_subwords = [i[0] for i in most_freq_subwords]\n",
    "print(\"most frequent subwords:\",most_freq_subwords)\n"
   ]
  },
  {
   "cell_type": "code",
   "execution_count": 172,
   "metadata": {},
   "outputs": [],
   "source": [
    "# take corresponding entries in e1 and create x and y for t-SNE\n",
    "idx = [i for i, j in enumerate(s1) if j in most_freq_subwords]\n",
    "e1 = e1[idx,:]\n",
    "s1 = s1[idx]"
   ]
  },
  {
   "cell_type": "code",
   "execution_count": 180,
   "metadata": {},
   "outputs": [
    {
     "data": {
      "text/plain": [
       "(1610,)"
      ]
     },
     "execution_count": 180,
     "metadata": {},
     "output_type": "execute_result"
    }
   ],
   "source": [
    "s1.shape"
   ]
  },
  {
   "cell_type": "code",
   "execution_count": 208,
   "metadata": {},
   "outputs": [
    {
     "name": "stderr",
     "output_type": "stream",
     "text": [
      "/home/amitmeghanani/anaconda3/envs/local_awe/lib/python3.10/site-packages/sklearn/manifold/_t_sne.py:795: FutureWarning: The default initialization in TSNE will change from 'random' to 'pca' in 1.2.\n",
      "  warnings.warn(\n",
      "/home/amitmeghanani/anaconda3/envs/local_awe/lib/python3.10/site-packages/sklearn/manifold/_t_sne.py:805: FutureWarning: The default learning rate in TSNE will change from 200.0 to 'auto' in 1.2.\n",
      "  warnings.warn(\n"
     ]
    },
    {
     "data": {
      "image/png": "[encoded data removed]",
      "text/plain": [
       "<Figure size 576x432 with 1 Axes>"
      ]
     },
     "metadata": {
      "needs_background": "light"
     },
     "output_type": "display_data"
    }
   ],
   "source": [
    "import matplotlib.pyplot as plt\n",
    "import seaborn as sns\n",
    "from sklearn.manifold import TSNE\n",
    "import pandas as pd\n",
    "\n",
    "# Create a t-SNE plot using s1 and e1\n",
    "tsne = TSNE(n_components=2, random_state=0)\n",
    "e1_2d = tsne.fit_transform(e1.cpu())\n",
    "\n",
    "# Create a DataFrame for the t-SNE plot\n",
    "df = pd.DataFrame()\n",
    "df[\"x\"] = e1_2d[:, 0]\n",
    "df[\"y\"] = e1_2d[:, 1]\n",
    "df[\"sub-words\"] = s1\n",
    "\n",
    "# Set up the plot\n",
    "plt.figure(figsize=(8, 6))  # Adjust the figure size as per your preference\n",
    "sns.scatterplot(\n",
    "    x=\"x\", y=\"y\",\n",
    "    hue=\"sub-words\",\n",
    "    palette=\"Set1\",\n",
    "    data=df,\n",
    "    edgecolor=\"k\",  # Add black edgecolor to the markers\n",
    "    s=30,  # Increase marker size for better visibility\n",
    "    #alpha=0.8  # Increase transparency for better visibility of overlapping markers\n",
    ")\n",
    "\n",
    "# Customize plot elements\n",
    "plt.title(\"t-SNE Visualization\", fontsize=18, fontweight='bold')  # Increase title font size and set bold\n",
    "plt.xlabel(\"t-SNE Dimension 1\", fontsize=16, fontweight='bold')  # Increase x-axis label font size and set bold\n",
    "plt.ylabel(\"t-SNE Dimension 2\", fontsize=16, fontweight='bold')  # Increase y-axis label font size and set bold\n",
    "\n",
    "# Save the plot in high quality\n",
    "plt.savefig(\"aswe.png\", dpi=300)  # Specify file name and dpi for high-resolution output\n",
    "\n",
    "# Show the plot\n",
    "plt.show()\n"
   ]
  },
  {
   "cell_type": "code",
   "execution_count": 183,
   "metadata": {},
   "outputs": [
    {
     "name": "stderr",
     "output_type": "stream",
     "text": [
      "/home/amitmeghanani/anaconda3/envs/local_awe/lib/python3.10/site-packages/sklearn/manifold/_t_sne.py:795: FutureWarning: The default initialization in TSNE will change from 'random' to 'pca' in 1.2.\n",
      "  warnings.warn(\n",
      "/home/amitmeghanani/anaconda3/envs/local_awe/lib/python3.10/site-packages/sklearn/manifold/_t_sne.py:805: FutureWarning: The default learning rate in TSNE will change from 200.0 to 'auto' in 1.2.\n",
      "  warnings.warn(\n"
     ]
    },
    {
     "data": {
      "text/plain": [
       "<AxesSubplot:xlabel='x', ylabel='y'>"
      ]
     },
     "execution_count": 183,
     "metadata": {},
     "output_type": "execute_result"
    },
    {
     "data": {
      "image/png": "[encoded data removed]",
      "text/plain": [
       "<Figure size 432x288 with 1 Axes>"
      ]
     },
     "metadata": {
      "needs_background": "light"
     },
     "output_type": "display_data"
    }
   ],
   "source": [
    "# create a  t-SNE plot usigg s1 and e1\n",
    "tsne = TSNE(n_components=2, random_state=0)\n",
    "e1_2d = tsne.fit_transform(e1.cpu())\n",
    "\n",
    "# create a dataframe for the t-SNE plot\n",
    "df = pd.DataFrame()\n",
    "df[\"x\"] = e1_2d[:,0]\n",
    "df[\"y\"] = e1_2d[:,1]\n",
    "df[\"subwords\"] = s1\n",
    "\n",
    "# plot the t-SNE plot\n",
    "sns.scatterplot(\n",
    "    x=\"x\", y=\"y\",\n",
    "    hue=\"subwords\",\n",
    "    palette=sns.color_palette(\"hls\", len(most_freq_subwords)),\n",
    "    data=df,\n",
    "    legend=\"full\",\n",
    "    alpha=0.3\n",
    ")\n",
    "\n",
    "\n"
   ]
  },
  {
   "cell_type": "code",
   "execution_count": null,
   "metadata": {},
   "outputs": [],
   "source": [
    "# creat "
   ]
  },
  {
   "cell_type": "code",
   "execution_count": 12,
   "metadata": {},
   "outputs": [
    {
     "data": {
      "text/plain": [
       "torch.Size([9778, 128])"
      ]
     },
     "execution_count": 12,
     "metadata": {},
     "output_type": "execute_result"
    }
   ],
   "source": [
    "df_test_emb.shape"
   ]
  },
  {
   "cell_type": "code",
   "execution_count": 13,
   "metadata": {},
   "outputs": [
    {
     "data": {
      "text/html": [
       "<div>\n",
       "<style scoped>\n",
       "    .dataframe tbody tr th:only-of-type {\n",
       "        vertical-align: middle;\n",
       "    }\n",
       "\n",
       "    .dataframe tbody tr th {\n",
       "        vertical-align: top;\n",
       "    }\n",
       "\n",
       "    .dataframe thead th {\n",
       "        text-align: right;\n",
       "    }\n",
       "</style>\n",
       "<table border=\"1\" class=\"dataframe\">\n",
       "  <thead>\n",
       "    <tr style=\"text-align: right;\">\n",
       "      <th></th>\n",
       "      <th>unique_id</th>\n",
       "      <th>words</th>\n",
       "      <th>ids</th>\n",
       "      <th>tokenized</th>\n",
       "    </tr>\n",
       "  </thead>\n",
       "  <tbody>\n",
       "    <tr>\n",
       "      <th>0</th>\n",
       "      <td>6534-71091-0048</td>\n",
       "      <td>GHEK</td>\n",
       "      <td>1241</td>\n",
       "      <td>[g, he, k]</td>\n",
       "    </tr>\n",
       "    <tr>\n",
       "      <th>1</th>\n",
       "      <td>1487-133273-0001</td>\n",
       "      <td>PLAYTHING</td>\n",
       "      <td>2302</td>\n",
       "      <td>[pl, ay, thing]</td>\n",
       "    </tr>\n",
       "    <tr>\n",
       "      <th>2</th>\n",
       "      <td>3257-169288-0025</td>\n",
       "      <td>GIRTH</td>\n",
       "      <td>1253</td>\n",
       "      <td>[g, ir, th]</td>\n",
       "    </tr>\n",
       "    <tr>\n",
       "      <th>3</th>\n",
       "      <td>5005-21379-0103</td>\n",
       "      <td>TOTAL</td>\n",
       "      <td>3075</td>\n",
       "      <td>[to, t, al]</td>\n",
       "    </tr>\n",
       "    <tr>\n",
       "      <th>4</th>\n",
       "      <td>3857-180923-0026</td>\n",
       "      <td>FIGHTS</td>\n",
       "      <td>1093</td>\n",
       "      <td>[f, ight, s]</td>\n",
       "    </tr>\n",
       "  </tbody>\n",
       "</table>\n",
       "</div>"
      ],
      "text/plain": [
       "          unique_id      words   ids        tokenized\n",
       "0   6534-71091-0048       GHEK  1241       [g, he, k]\n",
       "1  1487-133273-0001  PLAYTHING  2302  [pl, ay, thing]\n",
       "2  3257-169288-0025      GIRTH  1253      [g, ir, th]\n",
       "3   5005-21379-0103      TOTAL  3075      [to, t, al]\n",
       "4  3857-180923-0026     FIGHTS  1093     [f, ight, s]"
      ]
     },
     "execution_count": 13,
     "metadata": {},
     "output_type": "execute_result"
    }
   ],
   "source": [
    "df_test_metadata.head()"
   ]
  },
  {
   "cell_type": "code",
   "execution_count": 98,
   "metadata": {},
   "outputs": [
    {
     "data": {
      "text/plain": [
       "Index(['HIMSELF', 'THEREFORE', 'EVERYONE', 'LONELY', 'VESSEL', 'CLOTHING'], dtype='object')"
      ]
     },
     "execution_count": 98,
     "metadata": {},
     "output_type": "execute_result"
    }
   ],
   "source": [
    "# select 5  words from the test set with highest value counts\n",
    "test_words = df_test_metadata[\"words\"].value_counts().index[0:6]\n",
    "test_words"
   ]
  },
  {
   "cell_type": "code",
   "execution_count": 99,
   "metadata": {},
   "outputs": [],
   "source": [
    "# find all the instances of the selected words in the test set and corresponding embedding and create a tsne plot of 4 clusters\n",
    "x = []\n",
    "y = []\n",
    "for word in test_words:\n",
    "    x.append(df_test_emb[df_test_metadata[\"words\"]==word])\n",
    "    # repeat y given number of times x is repeated\n",
    "    y.append(np.repeat(word, len(df_test_emb[df_test_metadata[\"words\"]==word])))"
   ]
  },
  {
   "cell_type": "code",
   "execution_count": 100,
   "metadata": {},
   "outputs": [],
   "source": [
    "# create tsne plot for x and y\n",
    "x = torch.cat(x,0)\n",
    "y = np.concatenate(y)"
   ]
  },
  {
   "cell_type": "code",
   "execution_count": 126,
   "metadata": {},
   "outputs": [
    {
     "name": "stderr",
     "output_type": "stream",
     "text": [
      "/home/amitmeghanani/anaconda3/envs/local_awe/lib/python3.10/site-packages/sklearn/manifold/_t_sne.py:795: FutureWarning: The default initialization in TSNE will change from 'random' to 'pca' in 1.2.\n",
      "  warnings.warn(\n",
      "/home/amitmeghanani/anaconda3/envs/local_awe/lib/python3.10/site-packages/sklearn/manifold/_t_sne.py:805: FutureWarning: The default learning rate in TSNE will change from 200.0 to 'auto' in 1.2.\n",
      "  warnings.warn(\n"
     ]
    },
    {
     "data": {
      "image/png": "[encoded data removed]",
      "text/plain": [
       "<Figure size 432x288 with 1 Axes>"
      ]
     },
     "metadata": {
      "needs_background": "light"
     },
     "output_type": "display_data"
    }
   ],
   "source": [
    "import matplotlib.pyplot as plt\n",
    "import seaborn as sns\n",
    "from sklearn.manifold import TSNE\n",
    "import pandas as pd\n",
    "\n",
    "# Perform t-SNE embedding\n",
    "x_embedded = TSNE(n_components=2).fit_transform(x)\n",
    "\n",
    "# Create a DataFrame for plotting\n",
    "df_tsne = pd.DataFrame()\n",
    "df_tsne[\"x\"] = x_embedded[:, 0]\n",
    "df_tsne[\"y\"] = x_embedded[:, 1]\n",
    "df_tsne[\"words\"] = y\n",
    "\n",
    "# Set up the plot\n",
    "plt.figure(figsize=(6, 4))  # Adjust the figure size as per your preference\n",
    "sns.scatterplot(data=df_tsne, x=\"x\", y=\"y\", hue=\"words\", palette=\"Set1\", edgecolor=\"k\", s=30)\n",
    "\n",
    "# Customize plot elements\n",
    "plt.title(\"t-SNE Visualization\", fontsize=14, fontweight='bold')  # Increase title font size and set bold\n",
    "plt.xlabel(\"t-SNE Dimension 1\", fontsize=12, fontweight='bold')  # Increase x-axis label font size and set bold\n",
    "plt.ylabel(\"t-SNE Dimension 2\", fontsize=12, fontweight='bold')  # Increase y-axis label font size and set bold\n",
    "\n",
    "# Save the plot in high quality\n",
    "plt.savefig(\"tsne_plot.png\", dpi=300)  # Specify file name and dpi for high-resolution output\n",
    "\n",
    "# Show the plot\n",
    "plt.show()\n"
   ]
  },
  {
   "cell_type": "code",
   "execution_count": 104,
   "metadata": {},
   "outputs": [
    {
     "name": "stderr",
     "output_type": "stream",
     "text": [
      "/home/amitmeghanani/anaconda3/envs/local_awe/lib/python3.10/site-packages/sklearn/manifold/_t_sne.py:795: FutureWarning: The default initialization in TSNE will change from 'random' to 'pca' in 1.2.\n",
      "  warnings.warn(\n",
      "/home/amitmeghanani/anaconda3/envs/local_awe/lib/python3.10/site-packages/sklearn/manifold/_t_sne.py:805: FutureWarning: The default learning rate in TSNE will change from 200.0 to 'auto' in 1.2.\n",
      "  warnings.warn(\n"
     ]
    },
    {
     "data": {
      "image/png": "[encoded data removed]",
      "text/plain": [
       "<Figure size 576x432 with 1 Axes>"
      ]
     },
     "metadata": {
      "needs_background": "light"
     },
     "output_type": "display_data"
    }
   ],
   "source": [
    "import matplotlib.pyplot as plt\n",
    "import seaborn as sns\n",
    "from sklearn.manifold import TSNE\n",
    "import pandas as pd\n",
    "\n",
    "# Perform t-SNE embedding\n",
    "x_embedded = TSNE(n_components=2).fit_transform(x)\n",
    "\n",
    "# Create a DataFrame for plotting\n",
    "df_tsne = pd.DataFrame()\n",
    "df_tsne[\"x\"] = x_embedded[:, 0]\n",
    "df_tsne[\"y\"] = x_embedded[:, 1]\n",
    "df_tsne[\"words\"] = y\n",
    "\n",
    "# Set up the plot\n",
    "plt.figure(figsize=(8, 6))  # Adjust the figure size as per your preference\n",
    "sns.scatterplot(data=df_tsne, x=\"x\", y=\"y\", hue=\"words\", palette=\"Set1\", edgecolor=\"k\", s=100)\n",
    "\n",
    "# Customize plot elements\n",
    "plt.title(\"t-SNE Visualization\")\n",
    "plt.xlabel(\"t-SNE Dimension 1\")\n",
    "plt.ylabel(\"t-SNE Dimension 2\")\n",
    "\n",
    "# Show the plot\n",
    "plt.show()\n"
   ]
  },
  {
   "cell_type": "code",
   "execution_count": 102,
   "metadata": {},
   "outputs": [],
   "source": [
    "\n",
    "# x_embedded = TSNE(n_components=2).fit_transform(x)\n",
    "# df_tsne = pd.DataFrame()\n",
    "# df_tsne[\"x\"] = x_embedded[:,0]\n",
    "# df_tsne[\"y\"] = x_embedded[:,1]\n",
    "# df_tsne[\"words\"] = y\n",
    "# sns.scatterplot(data=df_tsne, x=\"x\", y=\"y\", hue=\"words\", palette=\"deep\")\n"
   ]
  },
  {
   "cell_type": "code",
   "execution_count": null,
   "metadata": {},
   "outputs": [],
   "source": [
    "## calculate average sub-word embedding from training set for all three positions\n",
    "\n",
    "list_sub_words1 = df_train_sub_metadata_plus['s1'].unique()\n",
    "print(\"list of subwords in case of first subword\")\n",
    "sub_word_mat1 = np.zeros(shape=(len(list_sub_words1), sub_embedding_dim))\n",
    "for i, sword in enumerate(list_sub_words1):\n",
    "    index_sword = df_train_sub_metadata_plus[df_train_sub_metadata_plus[\"s1\"]==sword].index\n",
    "    sub_word_mat1[i] = torch.mean(e1[index_sword], 0).numpy() \n",
    "\n",
    "if norm:\n",
    "    print(\"error alert\")\n",
    "    sub_word_mat1 = F.normalize(torch.from_numpy(sub_word_mat1),dim=1)\n",
    "    print(\"checking norm is 1\",torch.norm(sub_word_mat1[0]))\n",
    "    sub_word_mat1 = sub_word_mat1.numpy()\n",
    "\n",
    "\n",
    "sub_word_dict1 = dict(zip(list_sub_words1,sub_word_mat1))\n",
    "print(\"total unique subwords in 1st position\", len(list_sub_words1))\n",
    "print(sub_word_mat1.shape)\n",
    "\n",
    "\n",
    "list_sub_words2 = df_train_sub_metadata_plus['s2'].unique()\n",
    "print(\"list of subwords in case of second subword\")\n",
    "sub_word_mat2 = np.zeros(shape=(len(list_sub_words2), sub_embedding_dim))\n",
    "for i, sword in enumerate(list_sub_words2):\n",
    "    index_sword = df_train_sub_metadata_plus[df_train_sub_metadata_plus[\"s2\"]==sword].index\n",
    "    sub_word_mat2[i] = torch.mean(e2[index_sword], 0).numpy() \n",
    "\n",
    "if norm:\n",
    "    print(\"error alert\")\n",
    "    sub_word_mat2 = F.normalize(torch.from_numpy(sub_word_mat2))\n",
    "    print(\"checking norm is 1\",torch.norm(sub_word_mat2[0]))\n",
    "    sub_word_mat2 = sub_word_mat2.numpy()\n",
    "    \n",
    "sub_word_dict2 = dict(zip(list_sub_words2,sub_word_mat2))\n",
    "print(\"total unique subwords in second position\", len(list_sub_words2))\n",
    "print(sub_word_mat2.shape)\n",
    "\n",
    "list_sub_words3 = df_train_sub_metadata_plus['s3'].unique()\n",
    "print(\"list of subwords in case of third subword\")\n",
    "sub_word_mat3 = np.zeros(shape=(len(list_sub_words3), sub_embedding_dim))\n",
    "for i, sword in enumerate(list_sub_words3):\n",
    "    index_sword = df_train_sub_metadata_plus[df_train_sub_metadata_plus[\"s3\"]==sword].index\n",
    "    sub_word_mat3[i] = torch.mean(e3[index_sword], 0).numpy() \n",
    "\n",
    "if norm:\n",
    "    print(\"error alert\")\n",
    "    sub_word_mat3 = F.normalize(torch.from_numpy(sub_word_mat3))\n",
    "    print(\"checking norm is 1\",torch.norm(sub_word_mat3[0]))\n",
    "    sub_word_mat3 = sub_word_mat3.numpy()\n",
    "    \n",
    "sub_word_dict3 = dict(zip(list_sub_words3,sub_word_mat3))\n",
    "print(\"total unique subwords in third position\", len(list_sub_words3))\n",
    "print(sub_word_mat3.shape)\n",
    "\n",
    "\n",
    "unique_words = df_test_metadata[\"words\"].unique()\n",
    "print(\"total unique words in test set\",len(unique_words))\n",
    "\n",
    "artificial_words = np.zeros(shape=(len(unique_words), input_dim)) ## embedding dim is input_dim  here"
   ]
  },
  {
   "cell_type": "code",
   "execution_count": null,
   "metadata": {},
   "outputs": [],
   "source": [
    "if shuffle_pos==False:\n",
    "    flag = []\n",
    "    for i, w in enumerate(unique_words):\n",
    "        index = df_test_metadata[df_test_metadata[\"words\"] == w].index[0]\n",
    "        bpe_list = df_test_metadata.iloc[index,3]\n",
    "        \n",
    "        # check if the subwords are present in the training set or not\n",
    "        if bpe_list[0] in list_sub_words1 and bpe_list[1] in list_sub_words2 and bpe_list[2] in list_sub_words3:\n",
    "            sum_emb = sub_word_dict1[bpe_list[0]] + sub_word_dict2[bpe_list[1]] + sub_word_dict3[bpe_list[2]]\n",
    "            flag.append(True)\n",
    "        else:\n",
    "            sum_emb = np.zeros((1,128))\n",
    "            flag.append(False)\n",
    "\n",
    "        if proj:\n",
    "            sum_emb = torch.from_numpy(sum_emb)\n",
    "            artificial_words[i] = torch.tanh(model.fc_projection(sum_emb.float())).detach().numpy()\n",
    "        else:\n",
    "            artificial_words[i] = sum_emb\n",
    "    if norm:\n",
    "        artificial_words = F.normalize(torch.from_numpy(artificial_words)).numpy()\n",
    "\n",
    "    artificial_words = artificial_words[flag]\n",
    "    unique_words = unique_words[flag]\n",
    "\n",
    "    lista = unique_words\n",
    "    listb = df_test_metadata[\"words\"].values\n",
    "\n",
    "    labels = []\n",
    "    for i in lista:\n",
    "        for j in listb:\n",
    "            if i==j:\n",
    "                labels.append(True)\n",
    "            else:\n",
    "                labels.append(False)\n",
    "    ap_rw, _ = metric2(artificial_words, df_test_emb, np.array(labels), distance)\n",
    "\n",
    "    print(\"Average precision for constructed words (AP-CW):\", ap_rw)\n",
    "\n",
    "\n",
    "else:\n",
    "    flag = []\n",
    "    for i, w in enumerate(unique_words):\n",
    "        index = df_test_metadata[df_test_metadata[\"words\"] == w].index[0]\n",
    "        bpe_list = df_test_metadata.iloc[index,3]\n",
    "\n",
    "        # if bpe_list[0] in list_sub_words3 and bpe_list[2] in list_sub_words1:\n",
    "        #     sum_emb = sub_word_dict1[bpe_list[2]] + sub_word_dict2[bpe_list[1]] + sub_word_dict3[bpe_list[0]]\n",
    "        if bpe_list[1] in list_sub_words3 and bpe_list[2] in list_sub_words2 and bpe_list[0] in list_sub_words1:\n",
    "            sum_emb = sub_word_dict1[bpe_list[0]] + sub_word_dict3[bpe_list[1]] + sub_word_dict2[bpe_list[2]]\n",
    "            flag.append(True)\n",
    "        else: \n",
    "            sum_emb = np.zeros((1,128))\n",
    "            flag.append(False)\n",
    "\n",
    "        if proj:\n",
    "            sum_emb = torch.from_numpy(sum_emb)\n",
    "            artificial_words[i] = torch.tanh(model.fc_projection(sum_emb.float())).detach().numpy()\n",
    "        else:\n",
    "            artificial_words[i] = sum_emb\n",
    "\n",
    "    if norm:\n",
    "        artificial_words = F.normalize(torch.from_numpy(artificial_words)).numpy()\n",
    "\n",
    "    artificial_words = artificial_words[flag]\n",
    "    unique_words = unique_words[flag]\n",
    "\n",
    "    lista = unique_words\n",
    "    listb = df_test_metadata[\"words\"].values\n",
    "\n",
    "    labels = []\n",
    "    for i in lista:\n",
    "        for j in listb:\n",
    "            if i==j:\n",
    "                labels.append(True)\n",
    "            else:\n",
    "                labels.append(False)\n",
    "    test_metric2, _ = metric2(artificial_words, df_test_emb, np.array(labels), distance)\n",
    "\n",
    "    print(\"Average precision for reconstructed words (AP-RW) for swapped pos 2 and 3:\", test_metric2)"
   ]
  },
  {
   "attachments": {},
   "cell_type": "markdown",
   "metadata": {},
   "source": [
    "## Nearest neighbour words"
   ]
  },
  {
   "cell_type": "code",
   "execution_count": null,
   "metadata": {},
   "outputs": [],
   "source": [
    "df_train_metadata = pd.read_csv(os.path.join(base_dir, metadata_file, \"train_emb.csv\"), converters={'tokenized': literal_eval})\n",
    "train_words = df_train_metadata[\"words\"].values"
   ]
  },
  {
   "cell_type": "code",
   "execution_count": null,
   "metadata": {},
   "outputs": [],
   "source": [
    "test_words = df_test_metadata[\"words\"].values\n",
    "# get the word present in test but not in train\n",
    "test_words_not_in_train = np.setdiff1d(test_words, train_words)"
   ]
  },
  {
   "cell_type": "code",
   "execution_count": null,
   "metadata": {},
   "outputs": [],
   "source": [
    "unique_words = test_words_not_in_train\n",
    "print(\"total unique words in test set\",len(unique_words))\n",
    "artificial_words = np.zeros(shape=(len(unique_words), input_dim)) ## embedding dim is input_dim  here"
   ]
  },
  {
   "cell_type": "code",
   "execution_count": null,
   "metadata": {},
   "outputs": [],
   "source": [
    "if shuffle_pos==False:\n",
    "    flag = []\n",
    "    for i, w in enumerate(unique_words):\n",
    "        index = df_test_metadata[df_test_metadata[\"words\"] == w].index[0]\n",
    "        bpe_list = df_test_metadata.iloc[index,3]\n",
    "        \n",
    "        # check if the subwords are present in the training set or not\n",
    "        if bpe_list[0] in list_sub_words1 and bpe_list[1] in list_sub_words2 and bpe_list[2] in list_sub_words3:\n",
    "            sum_emb = sub_word_dict1[bpe_list[0]] + sub_word_dict2[bpe_list[1]] + sub_word_dict3[bpe_list[2]]\n",
    "            flag.append(True)\n",
    "        else:\n",
    "            sum_emb = np.zeros((1,128))\n",
    "            flag.append(False)\n",
    "\n",
    "        if proj:\n",
    "            sum_emb = torch.from_numpy(sum_emb)\n",
    "            artificial_words[i] = torch.tanh(model.fc_projection(sum_emb.float())).detach().numpy()\n",
    "        else:\n",
    "            artificial_words[i] = sum_emb\n",
    "    if norm:\n",
    "        artificial_words = F.normalize(torch.from_numpy(artificial_words)).numpy()\n",
    "\n",
    "    artificial_words = artificial_words[flag]\n",
    "    unique_words = unique_words[flag]\n",
    "\n",
    "    lista = unique_words\n",
    "    listb = df_test_metadata[\"words\"].values\n",
    "\n",
    "    labels = []\n",
    "    for i in lista:\n",
    "        for j in listb:\n",
    "            if i==j:\n",
    "                labels.append(True)\n",
    "            else:\n",
    "                labels.append(False)\n",
    "    ap_rw, _ = metric2(artificial_words, df_test_emb, np.array(labels), distance)\n",
    "\n",
    "    print(\"Average precision for constructed words (AP-CW):\", ap_rw)\n",
    "\n",
    "\n",
    "else:\n",
    "    flag = []\n",
    "    for i, w in enumerate(unique_words):\n",
    "        index = df_test_metadata[df_test_metadata[\"words\"] == w].index[0]\n",
    "        bpe_list = df_test_metadata.iloc[index,3]\n",
    "\n",
    "        # if bpe_list[0] in list_sub_words3 and bpe_list[2] in list_sub_words1:\n",
    "        #     sum_emb = sub_word_dict1[bpe_list[2]] + sub_word_dict2[bpe_list[1]] + sub_word_dict3[bpe_list[0]]\n",
    "        if bpe_list[1] in list_sub_words3 and bpe_list[2] in list_sub_words2 and bpe_list[0] in list_sub_words1:\n",
    "            sum_emb = sub_word_dict1[bpe_list[0]] + sub_word_dict3[bpe_list[1]] + sub_word_dict2[bpe_list[2]]\n",
    "            flag.append(True)\n",
    "        else: \n",
    "            sum_emb = np.zeros((1,128))\n",
    "            flag.append(False)\n",
    "\n",
    "        if proj:\n",
    "            sum_emb = torch.from_numpy(sum_emb)\n",
    "            artificial_words[i] = torch.tanh(model.fc_projection(sum_emb.float())).detach().numpy()\n",
    "        else:\n",
    "            artificial_words[i] = sum_emb\n",
    "\n",
    "    if norm:\n",
    "        artificial_words = F.normalize(torch.from_numpy(artificial_words)).numpy()\n",
    "\n",
    "    artificial_words = artificial_words[flag]\n",
    "    unique_words = unique_words[flag]\n",
    "\n",
    "    lista = unique_words\n",
    "    listb = df_test_metadata[\"words\"].values\n",
    "\n",
    "    labels = []\n",
    "    for i in lista:\n",
    "        for j in listb:\n",
    "            if i==j:\n",
    "                labels.append(True)\n",
    "            else:\n",
    "                labels.append(False)\n",
    "    test_metric2, _ = metric2(artificial_words, df_test_emb, np.array(labels), distance)\n",
    "\n",
    "    print(\"Average precision for reconstructed words (AP-RW) for swapped pos 2 and 3:\", test_metric2)"
   ]
  },
  {
   "cell_type": "code",
   "execution_count": null,
   "metadata": {},
   "outputs": [],
   "source": [
    "unique_words = [\"REC_\" + i for i in unique_words]"
   ]
  },
  {
   "cell_type": "code",
   "execution_count": null,
   "metadata": {},
   "outputs": [],
   "source": [
    "# rn = [unique_words.index('REC_ATONEMENT'), unique_words.index('REC_THREES'),\n",
    "#       unique_words.index('REC_STONY'), unique_words.index('REC_BASTARD')]\n",
    "# rn = [unique_words.index(i) for i in ['REC_ALLISTER', 'REC_ANYTHING', 'REC_FLOG', 'REC_ROLLED']]\n",
    "# rn = [unique_words.index(i) for i in ['REC_TYPE', 'REC_BRIBE', 'REC_CONTOUR', 'REC_COMMENTED']]\n",
    "# rn = [unique_words.index(i) for i in ['REC_CONFEST', 'REC_FARGO', 'REC_CUNARD', 'REC_EXPEL']]\n",
    "# rn = [unique_words.index(i) for i in ['REC_RASTA', 'REC_TEEM', 'REC_POPPO', 'REC_BEATER']]\n",
    "# rn = [unique_words.index(i) for i in ['REC_WARDING', 'REC_BARDI', 'REC_EMMY', 'REC_MOWER']]\n",
    "# rn = [unique_words.index(i) for i in ['REC_NEEDEST', 'REC_TAPPER', 'REC_ORTHERIS', 'REC_BOWIN']]\n",
    "rn = [unique_words.index(i) for i in ['REC_VISED', 'REC_CASTER', 'REC_MENDES', 'REC_INDICES']]"
   ]
  },
  {
   "cell_type": "code",
   "execution_count": null,
   "metadata": {},
   "outputs": [],
   "source": [
    "rn"
   ]
  },
  {
   "cell_type": "code",
   "execution_count": null,
   "metadata": {},
   "outputs": [],
   "source": [
    "# rn = random.sample(range(0, len(unique_words)), 4)\n",
    "# rn = [1013, 348, 318, 1690]\n",
    "list_of_nn_words = []\n",
    "list_of_nn_index = []\n",
    "list_of_recon = []\n",
    "b = df_test_emb.numpy()\n",
    "test_words = df_test_metadata[\"words\"].values\n",
    "for i in rn:\n",
    "    a = np.expand_dims(artificial_words[i], axis=0)\n",
    "    dists = cdist(a, b, 'cosine').flatten()\n",
    "    labels_nn = np.array(test_words)\n",
    "    labels_nn = labels_nn[np.argsort(dists)][:3]\n",
    "    list_of_nn_index.append(np.argsort(dists)[:3])\n",
    "    list_of_nn_words.append(labels_nn)\n",
    "    list_of_recon.append(unique_words[i])\n",
    "list_of_nn_words = np.concatenate(list_of_nn_words)\n",
    "list_of_nn_index = np.concatenate(list_of_nn_index)"
   ]
  },
  {
   "cell_type": "code",
   "execution_count": null,
   "metadata": {},
   "outputs": [],
   "source": [
    "PLOT_RW = artificial_words[rn]\n",
    "list_of_recon"
   ]
  },
  {
   "cell_type": "code",
   "execution_count": null,
   "metadata": {},
   "outputs": [],
   "source": [
    "df_test_metadata.iloc[list_of_nn_index]"
   ]
  },
  {
   "cell_type": "code",
   "execution_count": null,
   "metadata": {},
   "outputs": [],
   "source": [
    "PLOT_RW.shape"
   ]
  },
  {
   "cell_type": "code",
   "execution_count": null,
   "metadata": {},
   "outputs": [],
   "source": [
    "PLOT_NN = df_test_emb.numpy()[list_of_nn_index]\n",
    "list_of_nn_words"
   ]
  },
  {
   "cell_type": "code",
   "execution_count": null,
   "metadata": {},
   "outputs": [],
   "source": [
    "'FARGO' in train_words"
   ]
  },
  {
   "cell_type": "code",
   "execution_count": null,
   "metadata": {},
   "outputs": [],
   "source": [
    "'FARGO' in test_words"
   ]
  },
  {
   "cell_type": "code",
   "execution_count": null,
   "metadata": {},
   "outputs": [],
   "source": [
    "'FARGO' in test_words_not_in_train"
   ]
  },
  {
   "cell_type": "code",
   "execution_count": null,
   "metadata": {},
   "outputs": [],
   "source": [
    "X = np.concatenate([PLOT_RW, PLOT_NN])\n",
    "words = np.concatenate([list_of_recon, list_of_nn_words])\n",
    "X.shape"
   ]
  },
  {
   "cell_type": "code",
   "execution_count": null,
   "metadata": {},
   "outputs": [],
   "source": [
    "X_embedded = TSNE(n_components=2, learning_rate='auto', init='random', perplexity=3).fit_transform(X)"
   ]
  },
  {
   "cell_type": "code",
   "execution_count": null,
   "metadata": {},
   "outputs": [],
   "source": [
    "tsne_df = pd.DataFrame({'X':X_embedded[:,0],\n",
    "                        'Y':X_embedded[:,1],\n",
    "                        'digit':words})\n",
    "tsne_df.head()"
   ]
  },
  {
   "cell_type": "code",
   "execution_count": null,
   "metadata": {},
   "outputs": [],
   "source": [
    "def petalplot(df): \n",
    "    \n",
    "    def plotlabel(xvar, yvar, label):\n",
    "        ax.text(xvar+0.002, yvar, label)\n",
    "        \n",
    "    fig = plt.figure(figsize=(10,10))\n",
    "    ax = sns.scatterplot(x = 'X', y = 'Y', data=df)\n",
    "\n",
    "    # The magic starts here:\n",
    "    df.apply(lambda x: plotlabel(x['X'],  x['Y'], x['digit']), axis=1)\n",
    "\n",
    "#     plt.title('Example Plot')\n",
    "#     plt.xlabel('Sepal Length')\n",
    "#     plt.ylabel('Sepal Width')\n",
    "    \n",
    "petalplot(tsne_df)"
   ]
  },
  {
   "cell_type": "code",
   "execution_count": null,
   "metadata": {},
   "outputs": [],
   "source": []
  }
 ],
 "metadata": {
  "kernelspec": {
   "display_name": "Python 3 (ipykernel)",
   "language": "python",
   "name": "python3"
  },
  "language_info": {
   "codemirror_mode": {
    "name": "ipython",
    "version": 3
   },
   "file_extension": ".py",
   "mimetype": "text/x-python",
   "name": "python",
   "nbconvert_exporter": "python",
   "pygments_lexer": "ipython3",
   "version": "3.10.4"
  },
  "vscode": {
   "interpreter": {
    "hash": "4f7754f9fcf70c8995083b34e34fedf4c09abc52a5f8cba23e063a4e83daae61"
   }
  }
 },
 "nbformat": 4,
 "nbformat_minor": 2
}
