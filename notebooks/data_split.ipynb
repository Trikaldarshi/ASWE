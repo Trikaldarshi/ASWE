{
 "cells": [
  {
   "cell_type": "code",
   "execution_count": 28,
   "metadata": {},
   "outputs": [],
   "source": [
    "import pandas as pd\n",
    "from sklearn.model_selection import train_test_split\n",
    "from ast import literal_eval"
   ]
  },
  {
   "cell_type": "code",
   "execution_count": 29,
   "metadata": {},
   "outputs": [],
   "source": [
    "df = pd.read_csv(\"../data/final_dataset_prepared_3_200_6000_1.csv\",converters={'tokenized': literal_eval})\n",
    "new = df[\"filename_path\"].str.split(\"/\",expand=True)\n",
    "df[\"filename_path\"] = './' + new[5] + '/' + new[6]+ '/' + new[7] + '/' + new[8]"
   ]
  },
  {
   "cell_type": "code",
   "execution_count": 30,
   "metadata": {},
   "outputs": [
    {
     "name": "stdout",
     "output_type": "stream",
     "text": [
      "length of the datset 29334\n",
      "length of train, validation and test dataset:\n",
      "29334 9778 9778\n",
      "total unique words in train, validation and test dataset:\n",
      "(5152,) (3399,) (3360,)\n",
      "saving train, validation and test dataset.....\n"
     ]
    }
   ],
   "source": [
    "df_train, df_dummy = train_test_split(df,random_state=202,test_size=0.40)\n",
    "df_val,df_test = train_test_split(df_dummy,random_state=202,test_size=0.50)\n",
    "\n",
    "print(\"length of the datset\",df_train.shape[0])\n",
    "\n",
    "print(\"length of train, validation and test dataset:\")\n",
    "print(df_train.shape[0],df_val.shape[0],df_test.shape[0])\n",
    "\n",
    "print(\"total unique words in train, validation and test dataset:\")\n",
    "print(df_train[\"word\"].unique().shape,df_val[\"word\"].unique().shape,df_test[\"word\"].unique().shape)\n",
    "\n",
    "print(\"saving train, validation and test dataset.....\")\n",
    "\n",
    "df_train.to_csv(\"../data/train.csv\",index=False)\n",
    "df_val.to_csv(\"../data/val.csv\",index=False)\n",
    "df_test.to_csv(\"../data/test.csv\",index=False)\n"
   ]
  },
  {
   "cell_type": "code",
   "execution_count": null,
   "metadata": {},
   "outputs": [],
   "source": []
  }
 ],
 "metadata": {
  "kernelspec": {
   "display_name": "local_awe",
   "language": "python",
   "name": "python3"
  },
  "language_info": {
   "codemirror_mode": {
    "name": "ipython",
    "version": 3
   },
   "file_extension": ".py",
   "mimetype": "text/x-python",
   "name": "python",
   "nbconvert_exporter": "python",
   "pygments_lexer": "ipython3",
   "version": "3.10.4"
  },
  "orig_nbformat": 4
 },
 "nbformat": 4,
 "nbformat_minor": 2
}
