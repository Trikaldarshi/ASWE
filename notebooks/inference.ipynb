{
 "cells": [
  {
   "cell_type": "code",
   "execution_count": 9,
   "metadata": {},
   "outputs": [],
   "source": [
    "import argparse\n",
    "import time\n",
    "import wandb\n",
    "import datetime\n",
    "import random\n",
    "import sys\n",
    "import os\n",
    "import numpy as np\n",
    "import torch.nn as nn\n",
    "import torch.optim as optim\n",
    "import torch\n",
    "import copy\n",
    "from os import path\n",
    "import pandas as pd\n",
    "from collections import Counter\n",
    "from sklearn.metrics import accuracy_score\n",
    "sys.path.append(os.path.abspath(os.path.join('..')))\n",
    "from models.model_cae import model_cae\n",
    "from models.sw_cls_cae_pretrained import sw_cls_cae_pretrained\n",
    "from utility_functions.awe_dataset_class import awe_dataset_pre_computed_pre_training\n",
    "from utility_functions.utils_function import (average_precision, collate_fn_pre_training)\n",
    "import torch.nn.functional as F\n",
    "from ast import literal_eval"
   ]
  },
  {
   "cell_type": "code",
   "execution_count": 11,
   "metadata": {},
   "outputs": [
    {
     "data": {
      "text/plain": [
       "<torch._C.Generator at 0x7ff1947c0cd0>"
      ]
     },
     "execution_count": 11,
     "metadata": {},
     "output_type": "execute_result"
    }
   ],
   "source": [
    "torch.manual_seed(3112)\n",
    "torch.cuda.manual_seed(3112)\n",
    "torch.cuda.manual_seed_all(3112)\n",
    "np.random.seed(3112)\n",
    "random.seed(3112)\n",
    "\n",
    "def seed_worker(worker_id):\n",
    "    worker_seed = torch.initial_seed() % 2**32\n",
    "    np.random.seed(worker_seed)\n",
    "    random.seed(worker_seed)\n",
    "\n",
    "g = torch.Generator()\n",
    "g.manual_seed(3121)"
   ]
  },
  {
   "cell_type": "code",
   "execution_count": 12,
   "metadata": {},
   "outputs": [],
   "source": [
    "bidirectional=True\n",
    "batch_size=1\n",
    "metadata_file=\"../data/hubert_features/hubert_feature_metadata.csv\""
   ]
  },
  {
   "cell_type": "code",
   "execution_count": 13,
   "metadata": {},
   "outputs": [],
   "source": [
    "device = torch.device(\"cuda\" if torch.cuda.is_available() else \"cpu\")"
   ]
  },
  {
   "cell_type": "code",
   "execution_count": 14,
   "metadata": {},
   "outputs": [
    {
     "name": "stdout",
     "output_type": "stream",
     "text": [
      "Is device CUDA: False\n",
      "number of workers: 0\n",
      "pin memory status: False\n"
     ]
    }
   ],
   "source": [
    "print(\"Is device CUDA:\", device.type==\"cuda\")\n",
    "if device.type == \"cuda\":\n",
    "    num_workers = 4\n",
    "    pin_memory = True\n",
    "else:\n",
    "    num_workers = 0\n",
    "    pin_memory = False\n",
    "\n",
    "print(\"number of workers:\", num_workers)\n",
    "print(\"pin memory status:\", pin_memory)"
   ]
  },
  {
   "cell_type": "code",
   "execution_count": 15,
   "metadata": {},
   "outputs": [],
   "source": [
    "train_data = awe_dataset_pre_computed_pre_training(\n",
    "    feature_df=metadata_file,\n",
    "    partition=\"train\")\n",
    "\n",
    "val_data = awe_dataset_pre_computed_pre_training(\n",
    "    feature_df=metadata_file,\n",
    "    partition=\"val\"\n",
    ")\n",
    "test_data = awe_dataset_pre_computed_pre_training(\n",
    "    feature_df=metadata_file,\n",
    "    partition=\"test\"\n",
    ")"
   ]
  },
  {
   "cell_type": "code",
   "execution_count": 16,
   "metadata": {},
   "outputs": [],
   "source": [
    "indices = np.random.choice(range(len(train_data)), 1000, replace=False)\n",
    "train_data = torch.utils.data.Subset(train_data, indices)\n",
    "indices = np.random.choice(range(len(val_data)), 1000, replace=False)\n",
    "val_data = torch.utils.data.Subset(val_data, indices)\n",
    "test_data = torch.utils.data.Subset(test_data, indices)"
   ]
  },
  {
   "cell_type": "code",
   "execution_count": 17,
   "metadata": {},
   "outputs": [
    {
     "name": "stdout",
     "output_type": "stream",
     "text": [
      "length of training data: 1000\n",
      "length of validation data: 1000\n",
      "length of test data: 1000\n"
     ]
    }
   ],
   "source": [
    "print(\"length of training data:\",len(train_data))\n",
    "print(\"length of validation data:\",len(val_data))\n",
    "print(\"length of test data:\",len(test_data))"
   ]
  },
  {
   "cell_type": "code",
   "execution_count": 18,
   "metadata": {},
   "outputs": [],
   "source": [
    "train_loader = torch.utils.data.DataLoader(\n",
    "    train_data,\n",
    "    batch_size=batch_size,\n",
    "    shuffle=True,\n",
    "    collate_fn=collate_fn_pre_training,\n",
    "    drop_last = False,\n",
    "    num_workers=num_workers,\n",
    "    pin_memory=pin_memory,\n",
    "    worker_init_fn=seed_worker,\n",
    "    generator=g\n",
    ")\n",
    "val_loader = torch.utils.data.DataLoader(\n",
    "    val_data,\n",
    "    batch_size=batch_size,\n",
    "    shuffle=True,\n",
    "    collate_fn=collate_fn_pre_training,\n",
    "    drop_last = False,\n",
    "    num_workers=num_workers,\n",
    "    pin_memory=pin_memory,\n",
    "    worker_init_fn=seed_worker,\n",
    "    generator=g\n",
    ")\n",
    "test_loader = torch.utils.data.DataLoader(\n",
    "    test_data,\n",
    "    batch_size=batch_size,\n",
    "    shuffle=True,\n",
    "    collate_fn=collate_fn_pre_training,\n",
    "    drop_last = False,\n",
    "    num_workers=num_workers,\n",
    "    pin_memory=pin_memory,\n",
    "    worker_init_fn=seed_worker,\n",
    "    generator=g\n",
    ")"
   ]
  },
  {
   "cell_type": "code",
   "execution_count": 25,
   "metadata": {},
   "outputs": [],
   "source": [
    "input_dim=768\n",
    "hidden_dim=256\n",
    "embedding_dim=128\n",
    "rnn_type=\"GRU\"\n",
    "num_layers=4\n",
    "dropout=0.2\n",
    "model_weights1=\"../checkpoints/model_hubert/hubert_01/HUBERT_BASE_128_BEST.pt\"\n",
    "model_weights2=\"../checkpoints/model_subword_classification/sub_classification_01/HUBERT_BASE_128_BEST.pt\""
   ]
  },
  {
   "cell_type": "code",
   "execution_count": 26,
   "metadata": {},
   "outputs": [],
   "source": [
    "filename = '../checkpoints/model_subword_classification/sub_classification_01/dict_tokens.pt'\n",
    "\n",
    "dict_tokens = torch.load(filename)\n",
    "classes = dict_tokens.keys()\n",
    "idx_to_class = {i:j for i, j in enumerate(classes)}\n",
    "class_to_idx = {value:key for key,value in idx_to_class.items()}\n",
    "num_classes = len(dict_tokens)"
   ]
  },
  {
   "cell_type": "code",
   "execution_count": 63,
   "metadata": {},
   "outputs": [
    {
     "name": "stdout",
     "output_type": "stream",
     "text": [
      "sw_cls_cae_pretrained(\n",
      "  (encoder): Encoder(\n",
      "    (rnn_enc): GRU(768, 256, num_layers=4, batch_first=True, dropout=0.2, bidirectional=True)\n",
      "    (fc_enc): Linear(in_features=512, out_features=128, bias=True)\n",
      "    (tanh): Tanh()\n",
      "  )\n",
      "  (attention): Attention(\n",
      "    (attn): Linear(in_features=640, out_features=128, bias=True)\n",
      "    (v): Linear(in_features=128, out_features=1, bias=False)\n",
      "  )\n",
      "  (decoder): Decoder(\n",
      "    (attention): Attention(\n",
      "      (attn): Linear(in_features=640, out_features=128, bias=True)\n",
      "      (v): Linear(in_features=128, out_features=1, bias=False)\n",
      "    )\n",
      "    (embedding): Embedding(188, 128)\n",
      "    (rnn): GRU(640, 128)\n",
      "    (fc_out): Linear(in_features=768, out_features=188, bias=True)\n",
      "    (dropout): Dropout(p=0.2, inplace=False)\n",
      "  )\n",
      ")\n"
     ]
    }
   ],
   "source": [
    "## Define the pre-trained model\n",
    "pre_model = model_cae(input_dim, hidden_dim, embedding_dim, \n",
    "                        rnn_type, bidirectional, num_layers, \n",
    "                        dropout)\n",
    "# # print(pre_model)\n",
    "# pre_model_checkpoint = torch.load(model_weights1, \n",
    "#                                   map_location=torch.device(device))\n",
    "# # print(pre_model_checkpoint['model_state_dict'])\n",
    "# pre_model.load_state_dict(pre_model_checkpoint['model_state_dict'])\n",
    "# pre_model.eval()\n",
    "\n",
    "# pre_model = pre_model.to(device)\n",
    "# for param in pre_model.parameters():\n",
    "#     param.requires_grad = False\n",
    "\n",
    "## Define the model\n",
    "\n",
    "model = sw_cls_cae_pretrained(hidden_dim, embedding_dim, rnn_type, \n",
    "                  bidirectional, num_layers, num_classes, dropout, \n",
    "                  pre_model.encoder)\n",
    "model_checkpoint = torch.load(model_weights2, \n",
    "                                  map_location=torch.device(device))\n",
    "model.load_state_dict(model_checkpoint['model_state_dict'])\n",
    "model = model.to(device)\n",
    "print(model)"
   ]
  },
  {
   "cell_type": "code",
   "execution_count": 64,
   "metadata": {},
   "outputs": [],
   "source": [
    "params = list(model.parameters())\n",
    "# check gradient is False or not\n",
    "# for param in params:\n",
    "#     print(param.requires_grad)"
   ]
  },
  {
   "cell_type": "code",
   "execution_count": 65,
   "metadata": {},
   "outputs": [
    {
     "name": "stdout",
     "output_type": "stream",
     "text": [
      "Total number of parameters: 5736252\n"
     ]
    }
   ],
   "source": [
    "cumu = 0\n",
    "for layer in params:\n",
    "    cumu += layer.numel()\n",
    "\n",
    "print(\"Total number of parameters:\", cumu)"
   ]
  },
  {
   "cell_type": "code",
   "execution_count": 66,
   "metadata": {},
   "outputs": [],
   "source": [
    "def doop(l):\n",
    "  return ''.join(l)"
   ]
  },
  {
   "cell_type": "code",
   "execution_count": 67,
   "metadata": {},
   "outputs": [],
   "source": [
    "def evaluate_accuracy(model, data_loader, device, max_length=12):\n",
    "    model.eval()\n",
    "    EOW_token = 1\n",
    "    y_true = []\n",
    "    y_pred = []\n",
    "    attention_list = []\n",
    "    for idx, (data,lens,word_name,_,token,token_len) in enumerate(data_loader):\n",
    "        # print(idx)\n",
    "        # for m in range(len(token)):\n",
    "        #     for subword in range(len(token[m])):\n",
    "        #         token[m][subword] = class_to_idx[token[m][subword]]\n",
    "        #     token[m] = torch.tensor(token[m])\n",
    "        # token = torch.utils.pad_sequence(token, batch_first=True, padding_value=class_to_idx['PAD'])\n",
    "        token = torch.from_numpy(np.vectorize(class_to_idx.get)(token))\n",
    "        data, lens, token = data.to(device), lens.to(device), token.to(device)\n",
    "        if  device.type == 'cuda()':\n",
    "            # print(\"cuda\")\n",
    "            word_name = word_name.cpu()\n",
    "        # else:\n",
    "        #     # print(\"cpu\")\n",
    "        with torch.no_grad():\n",
    "            encoder_outputs, encoded_x = model.encoder(data, lens)\n",
    "            # encoded_x = model.scale_encoder(encoded_x)\n",
    "\n",
    "        decoded_subwords = []\n",
    "        # decoder_attentions = torch.zeros(max_length, max_length)\n",
    "\n",
    "        # batch_size = token.size(0)\n",
    "        trg = token.T # [token len, batch size]\n",
    "        # trg_len = trg.size(0) # [token_len]\n",
    "        input = trg[0,:] # [batch_size,1,1]\n",
    "        hidden = encoded_x # [1, batch_size,embedding_dim/hidden dim]\n",
    "        mask = model.create_mask(data)\n",
    "        attentions = torch.zeros(max_length, 1, lens).to(device)\n",
    "        for di in range(1,max_length):\n",
    "            output, hidden, attention = model.decoder(\n",
    "                input, hidden, encoder_outputs, mask)\n",
    "            attentions[di] = attention\n",
    "            top1 = output.argmax(1)\n",
    "            if top1.item()==EOW_token:\n",
    "                # print(\"detected end of word token\")\n",
    "                decoded_subwords.append([idx_to_class[index.item()].replace(\"▁\",\"\").replace(\"EOW\",\"\").upper() for index in top1])\n",
    "                break\n",
    "            else:\n",
    "                decoded_subwords.append([idx_to_class[index.item()].replace(\"▁\",\"\").replace(\"EOW\",\"\").upper() for index in top1])\n",
    "            input = top1.detach()\n",
    "        decoded_words = np.apply_along_axis(doop, 0, np.array(decoded_subwords))\n",
    "        # print(di, decoded_words)\n",
    "        y_true = y_true + list(word_name)\n",
    "        y_pred = y_pred + decoded_words.tolist()\n",
    "        # attention_list = attention_list.append(attention)\n",
    "        # if idx%1==0:\n",
    "        #     print(idx)\n",
    "        #     return y_true, y_pred, attentions\n",
    "        #     break\n",
    "\n",
    "    accuracy = accuracy_score(y_true,y_pred)\n",
    "    print(\"accuracy\", accuracy)\n",
    "\n",
    "    return accuracy,attention_list"
   ]
  },
  {
   "cell_type": "code",
   "execution_count": 68,
   "metadata": {},
   "outputs": [
    {
     "name": "stdout",
     "output_type": "stream",
     "text": [
      "accuracy 0.996\n",
      "train_accuracy (0.996, [])\n",
      "accuracy 0.883\n",
      "val_accuracy (0.883, [])\n",
      "accuracy 0.889\n",
      "test_accuracy (0.889, [])\n"
     ]
    }
   ],
   "source": [
    "train_accuracy = evaluate_accuracy(model, train_loader, device)\n",
    "print(\"train_accuracy\", train_accuracy)\n",
    "val_accuracy = evaluate_accuracy(model, val_loader, device)\n",
    "print(\"val_accuracy\", val_accuracy)\n",
    "test_accuracy = evaluate_accuracy(model, test_loader, device)\n",
    "print(\"test_accuracy\", test_accuracy)"
   ]
  },
  {
   "cell_type": "code",
   "execution_count": 120,
   "metadata": {},
   "outputs": [],
   "source": [
    "# def evaluate2(model, data, lens, word_name, token, device, max_length=12):\n",
    "#     model.eval()\n",
    "#     EOW_token = 1\n",
    "#     token = torch.from_numpy(np.vectorize(class_to_idx.get)(token))\n",
    "#     data, lens, token = data.to(device), lens.to(device), token.to(device)\n",
    "#     word_name = word_name ## .cpu()\n",
    "#     with torch.no_grad():\n",
    "#         encoder_outputs, encoded_x = model.encoder(data, lens)\n",
    "#         encoded_x = model.scale_encoder(encoded_x)\n",
    "\n",
    "#     decoded_subwords = []\n",
    "#     trg = token.T # [token len, batch size]\n",
    "#     # trg_len = trg.size(0) # [token_len]\n",
    "#     input = trg[0,:] # [batch_size,1,1]\n",
    "#     hidden = encoded_x # [1, batch_size,embedding_dim/hidden dim]\n",
    "#     mask = model.create_mask(data)\n",
    "#     attentions = torch.zeros(max_length, 1, lens).to(device)\n",
    "#     for di in range(1,max_length):\n",
    "#         output, hidden, attention,_ = model.decoderV(\n",
    "#             input, hidden, encoder_outputs, mask,torch.tensor([di-1]))\n",
    "#         attentions[di] = attention\n",
    "#         top1 = output.argmax(1)\n",
    "#         if top1.item()==EOW_token:\n",
    "#             # print(\"detected end of word token\")\n",
    "#             decoded_subwords.append([idx_to_class[index.item()] for index in top1])\n",
    "#             break\n",
    "#         else:\n",
    "#             decoded_subwords.append([idx_to_class[index.item()] for index in top1])\n",
    "#         input = top1.detach()\n",
    "        \n",
    "#     return decoded_subwords, attentions"
   ]
  },
  {
   "cell_type": "code",
   "execution_count": 47,
   "metadata": {},
   "outputs": [],
   "source": [
    "def evaluate_attn(model, data, lens, word_name, token, device, max_length=11):\n",
    "    model.eval()\n",
    "    EOW_token = 1\n",
    "    SOW_token = 0\n",
    "    token = torch.from_numpy(np.vectorize(class_to_idx.get)(token))\n",
    "    data, lens, token = data.to(device), lens.to(device), token.to(device)\n",
    "    # print(len(token))\n",
    "    if  device.type == 'cuda()':\n",
    "        # print(\"cuda\")\n",
    "        word_name = word_name.cpu()\n",
    "    # else:\n",
    "    #     print(\"cpu\")\n",
    "    with torch.no_grad():\n",
    "        encoder_outputs, encoded_x = model.encoder(data, lens)\n",
    "        # encoded_x = model.scale_encoder(encoded_x)\n",
    "    mask = model.create_mask(data)\n",
    "    trg_indexes = [SOW_token]\n",
    "\n",
    "\n",
    "    hidden = encoded_x # [1, batch_size,embedding_dim/hidden dim]\n",
    "    \n",
    "    attentions = torch.zeros(max_length, 1, lens).to(device)\n",
    "\n",
    "    for di in range(max_length):\n",
    "        trg_tensor = torch.LongTensor([trg_indexes[-1]]).to(device)\n",
    "        output, hidden, attention = model.decoder(\n",
    "            trg_tensor, hidden, encoder_outputs, mask)\n",
    "        attentions[di] = attention\n",
    "        pred_token = output.argmax(1).item()\n",
    "        trg_indexes.append(pred_token)\n",
    "        if pred_token == EOW_token:\n",
    "            break\n",
    "\n",
    "    trg_tokens = [idx_to_class[i] for i in trg_indexes]\n",
    "        \n",
    "    return trg_tokens[1:], attentions[:len(trg_tokens)-1]"
   ]
  },
  {
   "cell_type": "code",
   "execution_count": 58,
   "metadata": {},
   "outputs": [],
   "source": [
    "for idx, (data,lens,word_name,_,token,token_len) in enumerate(val_loader):\n",
    "    a,b = evaluate_attn(model, data, lens, word_name, token, device)\n",
    "    if idx==0:\n",
    "        break"
   ]
  },
  {
   "cell_type": "code",
   "execution_count": 59,
   "metadata": {},
   "outputs": [
    {
     "name": "stdout",
     "output_type": "stream",
     "text": [
      "['he', 'ther', 'ther', 's', 'EOW'] torch.Size([5, 1, 35]) ['OTHERS']\n"
     ]
    }
   ],
   "source": [
    "print(a,b.shape,word_name)"
   ]
  },
  {
   "cell_type": "code",
   "execution_count": 60,
   "metadata": {},
   "outputs": [],
   "source": [
    "import matplotlib.pyplot as plt\n",
    "import matplotlib.ticker as ticker"
   ]
  },
  {
   "cell_type": "code",
   "execution_count": 61,
   "metadata": {},
   "outputs": [],
   "source": [
    "def display_attention(sentence, translation, attention):\n",
    "    \n",
    "    fig = plt.figure(figsize=(15,15))\n",
    "    ax = fig.add_subplot(111)\n",
    "    \n",
    "    attention = attention.squeeze(1).cpu().detach().numpy()\n",
    "    \n",
    "    cax = ax.matshow(attention, cmap='bone')\n",
    "   \n",
    "    ax.tick_params(labelsize=15)\n",
    "    \n",
    "    x_ticks = [''] + ['<sow>'] + [t.lower() for t in sentence] + ['<eow>']\n",
    "    y_ticks = [''] + translation\n",
    "     \n",
    "    ax.set_xticklabels(x_ticks, rotation=45)\n",
    "    ax.set_yticklabels(y_ticks)\n",
    "\n",
    "    ax.xaxis.set_major_locator(ticker.MultipleLocator(1))\n",
    "    ax.yaxis.set_major_locator(ticker.MultipleLocator(1))\n",
    "\n",
    "    plt.show()\n",
    "    plt.close()\n"
   ]
  },
  {
   "cell_type": "code",
   "execution_count": 62,
   "metadata": {},
   "outputs": [
    {
     "name": "stderr",
     "output_type": "stream",
     "text": [
      "/tmp/ipykernel_21070/882002334.py:15: UserWarning: FixedFormatter should only be used together with FixedLocator\n",
      "  ax.set_xticklabels(x_ticks, rotation=45)\n",
      "/tmp/ipykernel_21070/882002334.py:16: UserWarning: FixedFormatter should only be used together with FixedLocator\n",
      "  ax.set_yticklabels(y_ticks)\n"
     ]
    },
    {
     "data": {
      "image/png": "[encoded data removed]",
      "text/plain": [
       "<Figure size 1080x1080 with 1 Axes>"
      ]
     },
     "metadata": {
      "needs_background": "light"
     },
     "output_type": "display_data"
    }
   ],
   "source": [
    "sentence = [\"x_\" + str(i) for i in range(b.shape[2])]\n",
    "display_attention(sentence,a, b)"
   ]
  },
  {
   "cell_type": "code",
   "execution_count": 25,
   "metadata": {},
   "outputs": [],
   "source": [
    "# dict_sub_emb = {p : [] for p in range(10)}\n",
    "# dict_sub_emb_id = {p : [] for p in range(10)}\n",
    "# for idx, (data,lens,word_name,_,token,token_len) in enumerate(test_loader):\n",
    "#     trg_tokens,_,sub_emb = evaluate_attn(model, data, lens, word_name, token, device)\n",
    "#     # token = token[0][1:-1] # remove start and end of word token\n",
    "#     # note: can't use token because it is not the same as the token predicted by the model, which is trg_tokens, can have differnt length\n",
    "#     for i in range(len(trg_tokens)-1):    # -1 because we don't want to include the end of word token as a subword\n",
    "#         dict_sub_emb[i].append(sub_emb[i].detach())\n",
    "#         dict_sub_emb_id[i].append(class_to_idx[trg_tokens[i]])\n",
    "#     if idx==5000:\n",
    "#         print(idx)\n",
    "#         break"
   ]
  },
  {
   "cell_type": "code",
   "execution_count": 143,
   "metadata": {},
   "outputs": [
    {
     "name": "stdout",
     "output_type": "stream",
     "text": [
      "marlanx marlanx same\n",
      "0\n",
      "0\n"
     ]
    }
   ],
   "source": [
    "dict_sub_emb = {p : [] for p in range(10)}\n",
    "dict_sub_emb_id = {p : [] for p in range(10)}\n",
    "count = 0\n",
    "for idx, (data,lens,word_name,_,token,token_len) in enumerate(test_loader):\n",
    "    trg_tokens,_,sub_emb = evaluate_attn(model, data, lens, word_name, token, device)\n",
    "    trg_tokens = trg_tokens[:-1] # -1 because we don't want to include the end of word token as a subword\n",
    "    token = token[0][1:-1] # 1, -1 because we don't want to include the start and end of word token as a subword\n",
    "    if ''.join(trg_tokens) != ''.join(token):\n",
    "        print(''.join(trg_tokens), ''.join(token), 'different')\n",
    "        count += 1\n",
    "    else:   \n",
    "        print(''.join(trg_tokens), ''.join(token), 'same')\n",
    "        for i in range(len(trg_tokens)):    \n",
    "            dict_sub_emb[i].append(sub_emb[i].detach())\n",
    "            dict_sub_emb_id[i].append(class_to_idx[trg_tokens[i]])\n",
    "        if idx%100==0:\n",
    "            print(idx)\n",
    "            break\n",
    "print(count)"
   ]
  },
  {
   "cell_type": "code",
   "execution_count": 142,
   "metadata": {},
   "outputs": [
    {
     "data": {
      "text/plain": [
       "714"
      ]
     },
     "execution_count": 142,
     "metadata": {},
     "output_type": "execute_result"
    }
   ],
   "source": [
    "idx"
   ]
  },
  {
   "cell_type": "code",
   "execution_count": 137,
   "metadata": {},
   "outputs": [
    {
     "data": {
      "text/plain": [
       "'oswald'"
      ]
     },
     "execution_count": 137,
     "metadata": {},
     "output_type": "execute_result"
    }
   ],
   "source": [
    "''.join(trg_tokens[:-1])"
   ]
  },
  {
   "cell_type": "code",
   "execution_count": 136,
   "metadata": {},
   "outputs": [
    {
     "data": {
      "text/plain": [
       "'oswald'"
      ]
     },
     "execution_count": 136,
     "metadata": {},
     "output_type": "execute_result"
    }
   ],
   "source": [
    "''.join(token[0][1:-1])"
   ]
  },
  {
   "cell_type": "code",
   "execution_count": null,
   "metadata": {},
   "outputs": [],
   "source": [
    "len(dict_sub_emb[2])"
   ]
  },
  {
   "cell_type": "code",
   "execution_count": null,
   "metadata": {},
   "outputs": [],
   "source": [
    "len(dict_sub_emb_id[2])"
   ]
  },
  {
   "cell_type": "code",
   "execution_count": null,
   "metadata": {},
   "outputs": [],
   "source": [
    "embs = torch.cat(dict_sub_emb[1],0).to(torch.float16).numpy()\n",
    "ids = np.array(dict_sub_emb_id[1])\n",
    "avg_precision,_ = average_precision(embs, ids, \"cosine\", show_plot=False)"
   ]
  },
  {
   "cell_type": "code",
   "execution_count": null,
   "metadata": {},
   "outputs": [],
   "source": [
    "avg_precision"
   ]
  },
  {
   "cell_type": "code",
   "execution_count": null,
   "metadata": {},
   "outputs": [],
   "source": [
    "embs = torch.cat(dict_sub_emb[10],0).to(torch.float16).numpy()\n",
    "ids = np.array(dict_sub_emb_id[10])\n",
    "avg_precision,_ = average_precision(embs, ids, \"cosine\", show_plot=False)"
   ]
  },
  {
   "cell_type": "code",
   "execution_count": null,
   "metadata": {},
   "outputs": [],
   "source": [
    "type(embs)"
   ]
  },
  {
   "cell_type": "code",
   "execution_count": null,
   "metadata": {},
   "outputs": [],
   "source": [
    "ids"
   ]
  },
  {
   "cell_type": "code",
   "execution_count": null,
   "metadata": {},
   "outputs": [],
   "source": [
    "test_avg_precision = []\n",
    "for i in range(len(dict_sub_emb)):\n",
    "    embs = torch.cat(dict_sub_emb[i],0).to(torch.float16).numpy()\n",
    "    ids = np.array(dict_sub_emb_id[i])\n",
    "    avg_precision,_ = average_precision(embs, ids, \"cosine\", show_plot=False)\n",
    "    test_avg_precision.append(avg_precision)\n",
    "    print(\"average precision for subword at position {} is {}\".format(i,avg_precision))\n",
    "\n",
    "print(\"average precision for all subwords is {}\".format(np.mean(test_avg_precision)))\n",
    "\n",
    "\n",
    "\n",
    "# sub_embeddings, ids = torch.cat(dict_sub_emb[0],0).to(torch.float16).numpy(), np.array(dict_sub_emb_id[0])"
   ]
  },
  {
   "cell_type": "code",
   "execution_count": 163,
   "metadata": {},
   "outputs": [
    {
     "name": "stdout",
     "output_type": "stream",
     "text": [
      "1000\n"
     ]
    }
   ],
   "source": [
    "# # create dictoinary of dictionary with position as key and value as list of subword embeddings\n",
    "# dict_pos = {p : {} for p in range(10)}\n",
    "# dict_pos_count = {p : {} for p in range(10)}\n",
    "# for idx, (data,lens,word_name,_,token,token_len) in enumerate(train_loader):\n",
    "#     a,b,c = evaluate_attn(model, data, lens, word_name, token, device)\n",
    "#     a = a[:-1] # remove <eow> token\n",
    "#     token = token[0][1:] # remove <sow> token\n",
    "#     for i in range(len(a)):\n",
    "#         if a[i] not in dict_pos[i]:\n",
    "#             dict_pos[i][a[i]] = c[i]\n",
    "#             dict_pos_count[i][a[i]] = 1\n",
    "#         else:\n",
    "#             dict_pos[i][a[i]] += c[i]\n",
    "#             dict_pos_count[i][a[i]] += 1\n",
    "#     if idx==1000:        \n",
    "#         print(idx)\n",
    "#         break"
   ]
  },
  {
   "cell_type": "code",
   "execution_count": 144,
   "metadata": {},
   "outputs": [
    {
     "name": "stdout",
     "output_type": "stream",
     "text": [
      "telegraph telegraph same\n",
      "accusations accusations same\n",
      "proportionately proportionately same\n",
      "perfect perfect same\n",
      "acknowledging acknowledging same\n",
      "starfish starfish same\n",
      "seldom seldom same\n",
      "grandfather grandfather same\n",
      "apopologize apologize different\n",
      "combatants combatants same\n",
      "seclusion seclusion same\n",
      "foretold foretold same\n",
      "intermediate intermediate same\n",
      "solicited solicited same\n",
      "talker talker same\n",
      "archipelago archipelago same\n",
      "incompparable incomparable different\n",
      "terriers terriers same\n",
      "contradictcted contradicted different\n",
      "correspondent correspondent same\n",
      "thorns thorns same\n",
      "foot foot same\n",
      "crude crude same\n",
      "currants currants same\n",
      "honestly honestly same\n",
      "tarzan tarzan same\n",
      "perverse perverse same\n",
      "favourite favourite same\n",
      "fairies fairies same\n",
      "needful needful same\n",
      "objective objective same\n",
      "rather rather same\n",
      "enveloped enveloped same\n",
      "worthiness worthiness same\n",
      "delegates delegates same\n",
      "fraser fraser same\n",
      "scaffold scaffold same\n",
      "concentrate concentrate same\n",
      "symbol symbol same\n",
      "unconciousousnessous unconsciousness different\n",
      "califormia california different\n",
      "dispersed dispersed same\n",
      "bickerssdyke bickersdyke different\n",
      "tumultuous tumultuous same\n",
      "womanhood womanhood same\n",
      "remind remind same\n",
      "smelling smelling same\n",
      "gymnasium gymnasium same\n",
      "cavalcanti cavalcanti same\n",
      "achieve achieve same\n",
      "lighthouse lighthouse same\n",
      "philammon philammon same\n",
      "achieve achieve same\n",
      "awoke awoke same\n",
      "abolition abolition same\n",
      "utterly utterly same\n",
      "postscript postscript same\n",
      "intrigue intrigue same\n",
      "caught caught same\n",
      "instantentaneouslyly instantaneously different\n",
      "tormented tormented same\n",
      "torch torch same\n",
      "subscription subscription same\n",
      "modestly modestly same\n",
      "played played same\n",
      "pamphlet pamphlet same\n",
      "vigilance vigilance same\n",
      "oxford oxford same\n",
      "melbourne melbourne same\n",
      "concsessions concessions different\n",
      "hills hills same\n",
      "stratagem stratagem same\n",
      "operated operated same\n",
      "creditors creditors same\n",
      "eighteen eighteen same\n",
      "carlisle carlisle same\n",
      "steeds steeds same\n",
      "extremities extremities same\n",
      "illness illness same\n",
      "sawdust sawdust same\n",
      "antoinette antoinette same\n",
      "syracusansens syracusans different\n",
      "theseus theseus same\n",
      "expositionion exposition different\n",
      "protestant protestant same\n",
      "insurgents insurgents same\n",
      "acclamationsations acclamations different\n",
      "conformity conformity same\n",
      "umbrellas umbrellas same\n",
      "goods goods same\n",
      "beggar beggar same\n",
      "roared roared same\n",
      "huskily huskily same\n",
      "seducedsed seduced different\n",
      "awkwardly awkwardly same\n",
      "appeared appeared same\n",
      "firelight firelight same\n",
      "cavern cavern same\n",
      "sweep sweep same\n",
      "dubious dubious same\n",
      "juliet juliet same\n",
      "100\n"
     ]
    }
   ],
   "source": [
    "# create dictoinary of dictionary with position as key and value as list of subword embeddings\n",
    "dict_pos = {p : {} for p in range(10)}\n",
    "dict_pos_count = {p : {} for p in range(10)}\n",
    "for idx, (data,lens,word_name,_,token,token_len) in enumerate(train_loader):\n",
    "    trg_tokens,b,c = evaluate_attn(model, data, lens, word_name, token, device)\n",
    "    trg_tokens = trg_tokens[:-1] # remove <eow> token\n",
    "    c = c[:-1] # remove <eow> token\n",
    "    token = token[0][1:-1] # remove <sow> token\n",
    "    if ''.join(trg_tokens) != ''.join(token):\n",
    "        print(''.join(trg_tokens), ''.join(token), 'different')\n",
    "    else:   \n",
    "        print(''.join(trg_tokens), ''.join(token), 'same')\n",
    "\n",
    "        for i in range(len(trg_tokens)):    \n",
    "            if trg_tokens[i] not in dict_pos[i]:\n",
    "                dict_pos[i][trg_tokens[i]] = c[i]\n",
    "                dict_pos_count[i][trg_tokens[i]] = 1\n",
    "            else:\n",
    "                dict_pos[i][trg_tokens[i]] += c[i]\n",
    "                dict_pos_count[i][trg_tokens[i]] += 1\n",
    "        if idx==100:        \n",
    "            print(idx)\n",
    "            break"
   ]
  },
  {
   "cell_type": "code",
   "execution_count": 147,
   "metadata": {},
   "outputs": [
    {
     "data": {
      "text/plain": [
       "['j', 'u', 'li', 'et']"
      ]
     },
     "execution_count": 147,
     "metadata": {},
     "output_type": "execute_result"
    }
   ],
   "source": [
    "trg_tokens"
   ]
  },
  {
   "cell_type": "code",
   "execution_count": 151,
   "metadata": {},
   "outputs": [
    {
     "data": {
      "text/plain": [
       "torch.Size([4, 1, 128])"
      ]
     },
     "execution_count": 151,
     "metadata": {},
     "output_type": "execute_result"
    }
   ],
   "source": [
    "c[:-1].shape"
   ]
  },
  {
   "cell_type": "code",
   "execution_count": 159,
   "metadata": {},
   "outputs": [
    {
     "data": {
      "text/plain": [
       "array(['to', 'r', 't', 'u', 'res', 'EOW'], dtype=object)"
      ]
     },
     "execution_count": 159,
     "metadata": {},
     "output_type": "execute_result"
    }
   ],
   "source": [
    "token"
   ]
  },
  {
   "cell_type": "code",
   "execution_count": 160,
   "metadata": {},
   "outputs": [
    {
     "data": {
      "text/plain": [
       "['to', 'r', 't', 'u', 'res', 'EOW']"
      ]
     },
     "execution_count": 160,
     "metadata": {},
     "output_type": "execute_result"
    }
   ],
   "source": [
    "a"
   ]
  },
  {
   "cell_type": "code",
   "execution_count": null,
   "metadata": {},
   "outputs": [],
   "source": [
    "# take the averratge of all the subword embeddings base on the position dictionary count\n",
    "for i in range(len(dict_pos)):\n",
    "    for key in dict_pos[i]:\n",
    "        dict_pos[i][key] = F.normalize(dict_pos[i][key]/dict_pos_count[i][key])"
   ]
  },
  {
   "cell_type": "code",
   "execution_count": null,
   "metadata": {},
   "outputs": [],
   "source": [
    "torch.norm(dict_pos[5]['EOW'])"
   ]
  },
  {
   "cell_type": "code",
   "execution_count": 3,
   "metadata": {},
   "outputs": [],
   "source": [
    "## get the list of words in the test set that are not in the train set\n",
    "## after that, generate and cacluate AP-CW\n",
    "# test_words = []\n",
    "# for idx, (data,lens,word_name,_,token,token_len) in enumerate(test_loader):\n",
    "#     test_words.extend(word_name)\n",
    "\n",
    "df_train = pd.read_csv(\"../e2e_subword_embedding_1/data_final_7000/train.csv\")\n",
    "df_test = pd.read_csv(\"../e2e_subword_embedding_1/data_final_7000/test.csv\")\n",
    "df_val = pd.read_csv(\"../e2e_subword_embedding_1/data_final_7000/val.csv\")"
   ]
  },
  {
   "cell_type": "code",
   "execution_count": 153,
   "metadata": {},
   "outputs": [],
   "source": [
    "filename= \"dict_pos.pt\"\n",
    "if os.path.exists(filename):\n",
    "    dict_pos = torch.load(filename)"
   ]
  },
  {
   "cell_type": "code",
   "execution_count": 154,
   "metadata": {},
   "outputs": [
    {
     "data": {
      "text/html": [
       "<div>\n",
       "<style scoped>\n",
       "    .dataframe tbody tr th:only-of-type {\n",
       "        vertical-align: middle;\n",
       "    }\n",
       "\n",
       "    .dataframe tbody tr th {\n",
       "        vertical-align: top;\n",
       "    }\n",
       "\n",
       "    .dataframe thead th {\n",
       "        text-align: right;\n",
       "    }\n",
       "</style>\n",
       "<table border=\"1\" class=\"dataframe\">\n",
       "  <thead>\n",
       "    <tr style=\"text-align: right;\">\n",
       "      <th></th>\n",
       "      <th>filename</th>\n",
       "      <th>flag</th>\n",
       "      <th>start</th>\n",
       "      <th>duration</th>\n",
       "      <th>word</th>\n",
       "      <th>tokenized</th>\n",
       "      <th>count_tokens</th>\n",
       "      <th>sp_id_and_ch_id</th>\n",
       "      <th>filename_path</th>\n",
       "    </tr>\n",
       "  </thead>\n",
       "  <tbody>\n",
       "    <tr>\n",
       "      <th>0</th>\n",
       "      <td>LSP-140711-0008_1</td>\n",
       "      <td>1</td>\n",
       "      <td>5.46</td>\n",
       "      <td>0.66</td>\n",
       "      <td>JERVIS</td>\n",
       "      <td>['j', 'er', 'v', 'is']</td>\n",
       "      <td>4</td>\n",
       "      <td>-140711-0008</td>\n",
       "      <td>./train-other-500/3587/140711/3587-140711-0008...</td>\n",
       "    </tr>\n",
       "    <tr>\n",
       "      <th>1</th>\n",
       "      <td>LSP-132570-0000_1</td>\n",
       "      <td>1</td>\n",
       "      <td>1.59</td>\n",
       "      <td>0.64</td>\n",
       "      <td>DISPUTING</td>\n",
       "      <td>['d', 'is', 'p', 'ut', 'ing']</td>\n",
       "      <td>5</td>\n",
       "      <td>-132570-0000</td>\n",
       "      <td>./train-clean-100/2007/132570/2007-132570-0000...</td>\n",
       "    </tr>\n",
       "    <tr>\n",
       "      <th>2</th>\n",
       "      <td>LSP-5059-0002_1</td>\n",
       "      <td>1</td>\n",
       "      <td>3.96</td>\n",
       "      <td>0.94</td>\n",
       "      <td>SATISFACTORILY</td>\n",
       "      <td>['s', 'at', 'is', 'f', 'ac', 'to', 'ri', 'ly']</td>\n",
       "      <td>8</td>\n",
       "      <td>-5059-0002</td>\n",
       "      <td>./train-other-500/2930/5059/2930-5059-0002.flac</td>\n",
       "    </tr>\n",
       "    <tr>\n",
       "      <th>3</th>\n",
       "      <td>LSP-172162-0032_1</td>\n",
       "      <td>1</td>\n",
       "      <td>5.33</td>\n",
       "      <td>0.81</td>\n",
       "      <td>UNOCCUPIED</td>\n",
       "      <td>['u', 'no', 'c', 'c', 'up', 'i', 'ed']</td>\n",
       "      <td>7</td>\n",
       "      <td>-172162-0032</td>\n",
       "      <td>./train-clean-100/3436/172162/3436-172162-0032...</td>\n",
       "    </tr>\n",
       "    <tr>\n",
       "      <th>4</th>\n",
       "      <td>LSP-287660-0003_1</td>\n",
       "      <td>1</td>\n",
       "      <td>8.25</td>\n",
       "      <td>0.56</td>\n",
       "      <td>TESTIFIED</td>\n",
       "      <td>['t', 'est', 'if', 'i', 'ed']</td>\n",
       "      <td>5</td>\n",
       "      <td>-287660-0003</td>\n",
       "      <td>./train-clean-360/8506/287660/8506-287660-0003...</td>\n",
       "    </tr>\n",
       "  </tbody>\n",
       "</table>\n",
       "</div>"
      ],
      "text/plain": [
       "            filename  flag  start  duration            word  \\\n",
       "0  LSP-140711-0008_1     1   5.46      0.66          JERVIS   \n",
       "1  LSP-132570-0000_1     1   1.59      0.64       DISPUTING   \n",
       "2    LSP-5059-0002_1     1   3.96      0.94  SATISFACTORILY   \n",
       "3  LSP-172162-0032_1     1   5.33      0.81      UNOCCUPIED   \n",
       "4  LSP-287660-0003_1     1   8.25      0.56       TESTIFIED   \n",
       "\n",
       "                                        tokenized  count_tokens  \\\n",
       "0                          ['j', 'er', 'v', 'is']             4   \n",
       "1                   ['d', 'is', 'p', 'ut', 'ing']             5   \n",
       "2  ['s', 'at', 'is', 'f', 'ac', 'to', 'ri', 'ly']             8   \n",
       "3          ['u', 'no', 'c', 'c', 'up', 'i', 'ed']             7   \n",
       "4                   ['t', 'est', 'if', 'i', 'ed']             5   \n",
       "\n",
       "  sp_id_and_ch_id                                      filename_path  \n",
       "0    -140711-0008  ./train-other-500/3587/140711/3587-140711-0008...  \n",
       "1    -132570-0000  ./train-clean-100/2007/132570/2007-132570-0000...  \n",
       "2      -5059-0002    ./train-other-500/2930/5059/2930-5059-0002.flac  \n",
       "3    -172162-0032  ./train-clean-100/3436/172162/3436-172162-0032...  \n",
       "4    -287660-0003  ./train-clean-360/8506/287660/8506-287660-0003...  "
      ]
     },
     "execution_count": 154,
     "metadata": {},
     "output_type": "execute_result"
    }
   ],
   "source": [
    "df_test.head()"
   ]
  },
  {
   "cell_type": "code",
   "execution_count": 155,
   "metadata": {},
   "outputs": [
    {
     "name": "stdout",
     "output_type": "stream",
     "text": [
      "6799\n"
     ]
    }
   ],
   "source": [
    "unique_word_train = df_train['word'].unique()\n",
    "print(len(unique_word_train))"
   ]
  },
  {
   "cell_type": "code",
   "execution_count": 156,
   "metadata": {},
   "outputs": [
    {
     "name": "stdout",
     "output_type": "stream",
     "text": [
      "5364\n"
     ]
    }
   ],
   "source": [
    "unique_word_test = df_test['word'].unique()\n",
    "print(len(unique_word_test))"
   ]
  },
  {
   "cell_type": "code",
   "execution_count": 157,
   "metadata": {},
   "outputs": [],
   "source": [
    "set_train = set(unique_word_train)\n",
    "set_test = set(unique_word_test)\n",
    "not_common = set_test - set_train"
   ]
  },
  {
   "cell_type": "code",
   "execution_count": 158,
   "metadata": {},
   "outputs": [
    {
     "data": {
      "text/plain": [
       "141"
      ]
     },
     "execution_count": 158,
     "metadata": {},
     "output_type": "execute_result"
    }
   ],
   "source": [
    "len(not_common)"
   ]
  },
  {
   "cell_type": "code",
   "execution_count": 4,
   "metadata": {},
   "outputs": [],
   "source": [
    "from tokenizers import Tokenizer\n",
    "from tokenizers.models import BPE\n",
    "from tokenizers.pre_tokenizers import Whitespace\n",
    "from tokenizers.trainers import BpeTrainer\n",
    "tokenizer = Tokenizer(BPE(unk_token=\"[UNK]\"))\n",
    "tokenizer.pre_tokenizer = Whitespace()\n",
    "tokenizer = Tokenizer.from_file(\"../tokenizer-bpe200.json\")\n",
    "df_test_emb = torch.load(\"../paper2/embeddings_final/test_emb_norm.pt\")\n",
    "df_test = pd.read_csv(\"../paper2/embeddings_final/test_emb.csv\", converters={'tokenized': literal_eval})"
   ]
  },
  {
   "cell_type": "code",
   "execution_count": 8,
   "metadata": {},
   "outputs": [
    {
     "data": {
      "text/plain": [
       "tensor([[ 0.0754,  0.0947, -0.1163,  ...,  0.1009,  0.1055,  0.0906],\n",
       "        [ 0.1224,  0.0887, -0.1109,  ..., -0.0439,  0.0095, -0.0928],\n",
       "        [ 0.1198,  0.0781, -0.1141,  ..., -0.0280,  0.0867,  0.0907],\n",
       "        ...,\n",
       "        [ 0.1077,  0.0913, -0.1331,  ...,  0.0783, -0.1260, -0.1049],\n",
       "        [ 0.1180, -0.0548, -0.1337,  ..., -0.0490, -0.1388,  0.0196],\n",
       "        [-0.0450,  0.1079, -0.1352,  ...,  0.0050, -0.0254, -0.0924]])"
      ]
     },
     "execution_count": 8,
     "metadata": {},
     "output_type": "execute_result"
    }
   ],
   "source": [
    "df_test_emb"
   ]
  },
  {
   "cell_type": "code",
   "execution_count": 9,
   "metadata": {},
   "outputs": [
    {
     "data": {
      "text/plain": [
       "array([5031, 3105, 5028, ..., 4664, 1815, 2215])"
      ]
     },
     "execution_count": 9,
     "metadata": {},
     "output_type": "execute_result"
    }
   ],
   "source": [
    "df_test['ids'].values"
   ]
  },
  {
   "cell_type": "code",
   "execution_count": 10,
   "metadata": {},
   "outputs": [
    {
     "name": "stdout",
     "output_type": "stream",
     "text": [
      "average precision on test set - AP-SD : 0.9577458207536054\n"
     ]
    }
   ],
   "source": [
    "sub_embeddings = df_test_emb\n",
    "ids = df_test['ids'].values\n",
    "test_avg_precision,_ = average_precision(sub_embeddings.cpu(),ids, \"cosine\",show_plot=False)\n",
    "print(\"average precision on test set words - AP :\", test_avg_precision)"
   ]
  },
  {
   "cell_type": "code",
   "execution_count": 160,
   "metadata": {},
   "outputs": [],
   "source": [
    "# len(df_test[df_test['count_tokens']==11]['word'].unique())"
   ]
  },
  {
   "cell_type": "code",
   "execution_count": 161,
   "metadata": {},
   "outputs": [
    {
     "data": {
      "text/html": [
       "<div>\n",
       "<style scoped>\n",
       "    .dataframe tbody tr th:only-of-type {\n",
       "        vertical-align: middle;\n",
       "    }\n",
       "\n",
       "    .dataframe tbody tr th {\n",
       "        vertical-align: top;\n",
       "    }\n",
       "\n",
       "    .dataframe thead th {\n",
       "        text-align: right;\n",
       "    }\n",
       "</style>\n",
       "<table border=\"1\" class=\"dataframe\">\n",
       "  <thead>\n",
       "    <tr style=\"text-align: right;\">\n",
       "      <th></th>\n",
       "      <th>unique_id</th>\n",
       "      <th>words</th>\n",
       "      <th>ids</th>\n",
       "      <th>tokenized</th>\n",
       "    </tr>\n",
       "  </thead>\n",
       "  <tbody>\n",
       "    <tr>\n",
       "      <th>0</th>\n",
       "      <td>1182-134981-0042</td>\n",
       "      <td>UNCONTROLLABLE</td>\n",
       "      <td>5031</td>\n",
       "      <td>[un, con, t, ro, ll, ab, le]</td>\n",
       "    </tr>\n",
       "    <tr>\n",
       "      <th>1</th>\n",
       "      <td>296-142727-0013</td>\n",
       "      <td>MOSQUITOES</td>\n",
       "      <td>3105</td>\n",
       "      <td>[mo, s, qu, i, to, es]</td>\n",
       "    </tr>\n",
       "    <tr>\n",
       "      <th>2</th>\n",
       "      <td>1740-141148-0078</td>\n",
       "      <td>UNCOMPROMISING</td>\n",
       "      <td>5028</td>\n",
       "      <td>[un, com, p, rom, is, ing]</td>\n",
       "    </tr>\n",
       "    <tr>\n",
       "      <th>3</th>\n",
       "      <td>1695-142312-0079</td>\n",
       "      <td>CONSISTENCY</td>\n",
       "      <td>982</td>\n",
       "      <td>[con, s, is, t, en, c, y]</td>\n",
       "    </tr>\n",
       "    <tr>\n",
       "      <th>4</th>\n",
       "      <td>8799-270794-0014</td>\n",
       "      <td>INDIRECTLY</td>\n",
       "      <td>2468</td>\n",
       "      <td>[ind, i, re, ct, ly]</td>\n",
       "    </tr>\n",
       "  </tbody>\n",
       "</table>\n",
       "</div>"
      ],
      "text/plain": [
       "          unique_id           words   ids                     tokenized\n",
       "0  1182-134981-0042  UNCONTROLLABLE  5031  [un, con, t, ro, ll, ab, le]\n",
       "1   296-142727-0013      MOSQUITOES  3105        [mo, s, qu, i, to, es]\n",
       "2  1740-141148-0078  UNCOMPROMISING  5028    [un, com, p, rom, is, ing]\n",
       "3  1695-142312-0079     CONSISTENCY   982     [con, s, is, t, en, c, y]\n",
       "4  8799-270794-0014      INDIRECTLY  2468          [ind, i, re, ct, ly]"
      ]
     },
     "execution_count": 161,
     "metadata": {},
     "output_type": "execute_result"
    }
   ],
   "source": [
    "df_test.head()"
   ]
  },
  {
   "cell_type": "code",
   "execution_count": 162,
   "metadata": {},
   "outputs": [
    {
     "data": {
      "text/plain": [
       "14090"
      ]
     },
     "execution_count": 162,
     "metadata": {},
     "output_type": "execute_result"
    }
   ],
   "source": [
    "len(df_test['tokenized'])"
   ]
  },
  {
   "cell_type": "code",
   "execution_count": 163,
   "metadata": {},
   "outputs": [
    {
     "data": {
      "text/html": [
       "<div>\n",
       "<style scoped>\n",
       "    .dataframe tbody tr th:only-of-type {\n",
       "        vertical-align: middle;\n",
       "    }\n",
       "\n",
       "    .dataframe tbody tr th {\n",
       "        vertical-align: top;\n",
       "    }\n",
       "\n",
       "    .dataframe thead th {\n",
       "        text-align: right;\n",
       "    }\n",
       "</style>\n",
       "<table border=\"1\" class=\"dataframe\">\n",
       "  <thead>\n",
       "    <tr style=\"text-align: right;\">\n",
       "      <th></th>\n",
       "      <th>unique_id</th>\n",
       "      <th>words</th>\n",
       "      <th>ids</th>\n",
       "      <th>tokenized</th>\n",
       "    </tr>\n",
       "  </thead>\n",
       "  <tbody>\n",
       "    <tr>\n",
       "      <th>6</th>\n",
       "      <td>4345-7635-0040</td>\n",
       "      <td>HOUNDS</td>\n",
       "      <td>2329</td>\n",
       "      <td>[h, ound, s]</td>\n",
       "    </tr>\n",
       "    <tr>\n",
       "      <th>23</th>\n",
       "      <td>4396-14564-0020</td>\n",
       "      <td>TILES</td>\n",
       "      <td>4887</td>\n",
       "      <td>[t, il, es]</td>\n",
       "    </tr>\n",
       "    <tr>\n",
       "      <th>30</th>\n",
       "      <td>2380-152158-0076</td>\n",
       "      <td>INHERENT</td>\n",
       "      <td>2518</td>\n",
       "      <td>[in, her, ent]</td>\n",
       "    </tr>\n",
       "    <tr>\n",
       "      <th>57</th>\n",
       "      <td>1924-132576-0011</td>\n",
       "      <td>HOLLAND</td>\n",
       "      <td>2288</td>\n",
       "      <td>[ho, ll, and]</td>\n",
       "    </tr>\n",
       "    <tr>\n",
       "      <th>59</th>\n",
       "      <td>7011-66622-0040</td>\n",
       "      <td>BEANS</td>\n",
       "      <td>411</td>\n",
       "      <td>[be, an, s]</td>\n",
       "    </tr>\n",
       "    <tr>\n",
       "      <th>...</th>\n",
       "      <td>...</td>\n",
       "      <td>...</td>\n",
       "      <td>...</td>\n",
       "      <td>...</td>\n",
       "    </tr>\n",
       "    <tr>\n",
       "      <th>14069</th>\n",
       "      <td>441-128982-0030</td>\n",
       "      <td>REMOVE</td>\n",
       "      <td>4014</td>\n",
       "      <td>[re, mo, ve]</td>\n",
       "    </tr>\n",
       "    <tr>\n",
       "      <th>14070</th>\n",
       "      <td>1746-143015-0024</td>\n",
       "      <td>BORNE</td>\n",
       "      <td>548</td>\n",
       "      <td>[b, or, ne]</td>\n",
       "    </tr>\n",
       "    <tr>\n",
       "      <th>14074</th>\n",
       "      <td>7285-72200-0018</td>\n",
       "      <td>JAIL</td>\n",
       "      <td>2621</td>\n",
       "      <td>[j, a, il]</td>\n",
       "    </tr>\n",
       "    <tr>\n",
       "      <th>14079</th>\n",
       "      <td>2751-142363-0039</td>\n",
       "      <td>FOGG</td>\n",
       "      <td>1857</td>\n",
       "      <td>[fo, g, g]</td>\n",
       "    </tr>\n",
       "    <tr>\n",
       "      <th>14085</th>\n",
       "      <td>3221-138045-0050</td>\n",
       "      <td>FOLLY</td>\n",
       "      <td>1866</td>\n",
       "      <td>[fo, l, ly]</td>\n",
       "    </tr>\n",
       "  </tbody>\n",
       "</table>\n",
       "<p>2071 rows × 4 columns</p>\n",
       "</div>"
      ],
      "text/plain": [
       "              unique_id     words   ids       tokenized\n",
       "6        4345-7635-0040    HOUNDS  2329    [h, ound, s]\n",
       "23      4396-14564-0020     TILES  4887     [t, il, es]\n",
       "30     2380-152158-0076  INHERENT  2518  [in, her, ent]\n",
       "57     1924-132576-0011   HOLLAND  2288   [ho, ll, and]\n",
       "59      7011-66622-0040     BEANS   411     [be, an, s]\n",
       "...                 ...       ...   ...             ...\n",
       "14069   441-128982-0030    REMOVE  4014    [re, mo, ve]\n",
       "14070  1746-143015-0024     BORNE   548     [b, or, ne]\n",
       "14074   7285-72200-0018      JAIL  2621      [j, a, il]\n",
       "14079  2751-142363-0039      FOGG  1857      [fo, g, g]\n",
       "14085  3221-138045-0050     FOLLY  1866     [fo, l, ly]\n",
       "\n",
       "[2071 rows x 4 columns]"
      ]
     },
     "execution_count": 163,
     "metadata": {},
     "output_type": "execute_result"
    }
   ],
   "source": [
    "df_test[df_test['tokenized'].str.len()==3]"
   ]
  },
  {
   "cell_type": "code",
   "execution_count": 176,
   "metadata": {},
   "outputs": [
    {
     "name": "stdout",
     "output_type": "stream",
     "text": [
      "total unique words in test set 5364\n",
      "not found rom\n",
      "not found ard\n",
      "not found x\n",
      "not found to\n",
      "not found ke\n",
      "not found it\n",
      "not found if\n",
      "not found ard\n",
      "not found ast\n",
      "not found ing\n",
      "not found ri\n",
      "not found d\n",
      "not found ur\n",
      "not found lo\n",
      "not found j\n",
      "not found [UNK]\n",
      "not found it\n",
      "not found ast\n",
      "not found b\n",
      "not found ac\n",
      "not found up\n",
      "total unique words in test set 5343\n",
      "Average precision for reconstructed words (AP-CW): 0.0009852214374123417\n"
     ]
    }
   ],
   "source": [
    "shuffle_pos = \"no\"\n",
    "# unique_words = df_test[df_test['tokenized'].str.len()==3]['words'].unique()\n",
    "unique_words = df_test['words'].unique()\n",
    "print(\"total unique words in test set\",len(unique_words))\n",
    "\n",
    "artificial_words = np.zeros(shape=(len(unique_words),128)) ## embedding dim is input_dim  here\n",
    "\n",
    "if shuffle_pos ==\"no\":\n",
    "    flag = [True]*len(unique_words)\n",
    "    for i, w in enumerate(unique_words):\n",
    "        bpe_list = tokenizer.encode(w.lower()).tokens\n",
    "        sum_emb = torch.zeros(1,128)\n",
    "        for j in range(len(bpe_list)):\n",
    "            if bpe_list[j] in dict_pos[j]:\n",
    "                sum_emb += dict_pos[j][bpe_list[j]].detach()\n",
    "            else:\n",
    "                flag[i] = False\n",
    "                print(\"not found\",bpe_list[j])\n",
    "                break\n",
    "        artificial_words[i] = torch.tanh(model.proj_layer(sum_emb)).detach().numpy()\n",
    "    artificial_words = F.normalize(torch.from_numpy(artificial_words)).numpy()\n",
    "    artificial_words = artificial_words[flag]\n",
    "    unique_words = unique_words[flag]\n",
    "    print(\"total unique words in test set\",len(unique_words))\n",
    "    lista = unique_words\n",
    "    listb = df_test[\"words\"].values\n",
    "\n",
    "    labels = []\n",
    "    for i in lista:\n",
    "        for j in listb:\n",
    "            if i==j:\n",
    "                labels.append(True)\n",
    "            else:\n",
    "                labels.append(False)\n",
    "    ap_rw, _ = metric2(artificial_words, df_test_emb, np.array(labels), \"cosine\") ## calculate df_test_emb befoer hand\n",
    "\n",
    "    print(\"Average precision for reconstructed words (AP-CW):\", ap_rw)\n",
    "\n",
    "\n",
    "# else:\n",
    "#     flag = []\n",
    "#     for i, w in enumerate(unique_words):\n",
    "#         index = df_test_metadata[df_test_metadata[\"words\"] == w].index[0]\n",
    "#         bpe_list = df_test_metadata.iloc[index,3]\n",
    "\n",
    "#         if bpe_list[1] in list_sub_words3 and bpe_list[2] in list_sub_words2:\n",
    "#             sum_emb = sub_word_dict1[bpe_list[0]] + sub_word_dict3[bpe_list[1]] + sub_word_dict2[bpe_list[2]]\n",
    "#             flag.append(True)\n",
    "#         else: \n",
    "#             sum_emb = np.zeros((1,128))\n",
    "#             flag.append(False)\n",
    "\n",
    "#         if args.model_name==\"fact_net3\":\n",
    "#             sum_emb = torch.from_numpy(sum_emb)\n",
    "#             artificial_words[i] = torch.tanh(model.fc_projection(sum_emb.float())).detach().numpy()\n",
    "#         else:\n",
    "#             artificial_words[i] = sum_emb\n",
    "\n",
    "#     if args.norm==\"True\":\n",
    "#         artificial_words = F.normalize(torch.from_numpy(artificial_words)).numpy()\n",
    "\n",
    "#     artificial_words = artificial_words[flag]\n",
    "#     unique_words = unique_words[flag]\n",
    "\n",
    "#     lista = unique_words\n",
    "#     listb = df_test_metadata[\"words\"].values\n",
    "\n",
    "#     labels = []\n",
    "#     for i in lista:\n",
    "#         for j in listb:\n",
    "#             if i==j:\n",
    "#                 labels.append(True)\n",
    "#             else:\n",
    "#                 labels.append(False)\n",
    "#     test_metric2, _ = metric2(artificial_words, df_test_emb, np.array(labels), args.distance)\n",
    "\n",
    "    # print(\"Average precision for reconstructed words (AP-RW) for swapped pos 2 and 3:\", test_metric2)"
   ]
  },
  {
   "cell_type": "code",
   "execution_count": 175,
   "metadata": {},
   "outputs": [
    {
     "data": {
      "text/plain": [
       "tensor(1.0000, dtype=torch.float64)"
      ]
     },
     "execution_count": 175,
     "metadata": {},
     "output_type": "execute_result"
    }
   ],
   "source": [
    "torch.norm(torch.tensor(artificial_words[0]))"
   ]
  },
  {
   "cell_type": "code",
   "execution_count": 180,
   "metadata": {},
   "outputs": [
    {
     "data": {
      "text/plain": [
       "<matplotlib.image.AxesImage at 0x7f806f066ad0>"
      ]
     },
     "execution_count": 180,
     "metadata": {},
     "output_type": "execute_result"
    },
    {
     "data": {
      "image/png": "[encoded data removed]",
      "text/plain": [
       "<Figure size 1152x144 with 1 Axes>"
      ]
     },
     "metadata": {
      "needs_background": "light"
     },
     "output_type": "display_data"
    }
   ],
   "source": [
    "plt.matshow(model.decoderV.pos_embedding.weight.detach().numpy())"
   ]
  },
  {
   "cell_type": "code",
   "execution_count": 166,
   "metadata": {},
   "outputs": [
    {
     "data": {
      "text/plain": [
       "tensor(1.0000, grad_fn=<CopyBackwards>)"
      ]
     },
     "execution_count": 166,
     "metadata": {},
     "output_type": "execute_result"
    }
   ],
   "source": [
    "torch.norm(dict_pos[0]['a'])"
   ]
  },
  {
   "cell_type": "code",
   "execution_count": 121,
   "metadata": {},
   "outputs": [
    {
     "data": {
      "text/plain": [
       "array(['UNCONTROLLABLE', 'MOSQUITOES', 'UNCOMPROMISING', ..., 'BRUSH',\n",
       "       'COLOR', 'FOLLY'], dtype=object)"
      ]
     },
     "execution_count": 121,
     "metadata": {},
     "output_type": "execute_result"
    }
   ],
   "source": [
    "lista"
   ]
  },
  {
   "cell_type": "code",
   "execution_count": 111,
   "metadata": {},
   "outputs": [
    {
     "data": {
      "text/plain": [
       "torch.Size([14090, 128])"
      ]
     },
     "execution_count": 111,
     "metadata": {},
     "output_type": "execute_result"
    }
   ],
   "source": [
    "df_test_emb.shape"
   ]
  },
  {
   "cell_type": "code",
   "execution_count": 57,
   "metadata": {},
   "outputs": [
    {
     "data": {
      "text/plain": [
       "14064"
      ]
     },
     "execution_count": 57,
     "metadata": {},
     "output_type": "execute_result"
    }
   ],
   "source": [
    "sum(labels)"
   ]
  },
  {
   "cell_type": "code",
   "execution_count": 58,
   "metadata": {},
   "outputs": [
    {
     "data": {
      "text/plain": [
       "75466040"
      ]
     },
     "execution_count": 58,
     "metadata": {},
     "output_type": "execute_result"
    }
   ],
   "source": [
    "len(labels)"
   ]
  },
  {
   "cell_type": "code",
   "execution_count": 136,
   "metadata": {},
   "outputs": [],
   "source": [
    "lens = torch.tensor([7,3,4,5])\n",
    "mask = torch.repeat_interleave(torch.ones(4,768), lens, dim=0, output_size=sum(lens))\n",
    "mask = torch.split(mask, lens.tolist())\n",
    "mask_padded = torch.nn.utils.rnn.pad_sequence(mask, batch_first=False)"
   ]
  },
  {
   "cell_type": "code",
   "execution_count": 137,
   "metadata": {},
   "outputs": [
    {
     "data": {
      "text/plain": [
       "torch.Size([7, 4, 768])"
      ]
     },
     "execution_count": 137,
     "metadata": {},
     "output_type": "execute_result"
    }
   ],
   "source": [
    "mask_padded.shape"
   ]
  },
  {
   "cell_type": "code",
   "execution_count": 138,
   "metadata": {},
   "outputs": [
    {
     "data": {
      "text/plain": [
       "tensor([0., 0., 0., 0., 0., 0., 0., 0., 0., 0., 0., 0., 0., 0., 0., 0., 0., 0., 0., 0., 0., 0., 0., 0.,\n",
       "        0., 0., 0., 0., 0., 0., 0., 0., 0., 0., 0., 0., 0., 0., 0., 0., 0., 0., 0., 0., 0., 0., 0., 0.,\n",
       "        0., 0., 0., 0., 0., 0., 0., 0., 0., 0., 0., 0., 0., 0., 0., 0., 0., 0., 0., 0., 0., 0., 0., 0.,\n",
       "        0., 0., 0., 0., 0., 0., 0., 0., 0., 0., 0., 0., 0., 0., 0., 0., 0., 0., 0., 0., 0., 0., 0., 0.,\n",
       "        0., 0., 0., 0., 0., 0., 0., 0., 0., 0., 0., 0., 0., 0., 0., 0., 0., 0., 0., 0., 0., 0., 0., 0.,\n",
       "        0., 0., 0., 0., 0., 0., 0., 0., 0., 0., 0., 0., 0., 0., 0., 0., 0., 0., 0., 0., 0., 0., 0., 0.,\n",
       "        0., 0., 0., 0., 0., 0., 0., 0., 0., 0., 0., 0., 0., 0., 0., 0., 0., 0., 0., 0., 0., 0., 0., 0.,\n",
       "        0., 0., 0., 0., 0., 0., 0., 0., 0., 0., 0., 0., 0., 0., 0., 0., 0., 0., 0., 0., 0., 0., 0., 0.,\n",
       "        0., 0., 0., 0., 0., 0., 0., 0., 0., 0., 0., 0., 0., 0., 0., 0., 0., 0., 0., 0., 0., 0., 0., 0.,\n",
       "        0., 0., 0., 0., 0., 0., 0., 0., 0., 0., 0., 0., 0., 0., 0., 0., 0., 0., 0., 0., 0., 0., 0., 0.,\n",
       "        0., 0., 0., 0., 0., 0., 0., 0., 0., 0., 0., 0., 0., 0., 0., 0., 0., 0., 0., 0., 0., 0., 0., 0.,\n",
       "        0., 0., 0., 0., 0., 0., 0., 0., 0., 0., 0., 0., 0., 0., 0., 0., 0., 0., 0., 0., 0., 0., 0., 0.,\n",
       "        0., 0., 0., 0., 0., 0., 0., 0., 0., 0., 0., 0., 0., 0., 0., 0., 0., 0., 0., 0., 0., 0., 0., 0.,\n",
       "        0., 0., 0., 0., 0., 0., 0., 0., 0., 0., 0., 0., 0., 0., 0., 0., 0., 0., 0., 0., 0., 0., 0., 0.,\n",
       "        0., 0., 0., 0., 0., 0., 0., 0., 0., 0., 0., 0., 0., 0., 0., 0., 0., 0., 0., 0., 0., 0., 0., 0.,\n",
       "        0., 0., 0., 0., 0., 0., 0., 0., 0., 0., 0., 0., 0., 0., 0., 0., 0., 0., 0., 0., 0., 0., 0., 0.,\n",
       "        0., 0., 0., 0., 0., 0., 0., 0., 0., 0., 0., 0., 0., 0., 0., 0., 0., 0., 0., 0., 0., 0., 0., 0.,\n",
       "        0., 0., 0., 0., 0., 0., 0., 0., 0., 0., 0., 0., 0., 0., 0., 0., 0., 0., 0., 0., 0., 0., 0., 0.,\n",
       "        0., 0., 0., 0., 0., 0., 0., 0., 0., 0., 0., 0., 0., 0., 0., 0., 0., 0., 0., 0., 0., 0., 0., 0.,\n",
       "        0., 0., 0., 0., 0., 0., 0., 0., 0., 0., 0., 0., 0., 0., 0., 0., 0., 0., 0., 0., 0., 0., 0., 0.,\n",
       "        0., 0., 0., 0., 0., 0., 0., 0., 0., 0., 0., 0., 0., 0., 0., 0., 0., 0., 0., 0., 0., 0., 0., 0.,\n",
       "        0., 0., 0., 0., 0., 0., 0., 0., 0., 0., 0., 0., 0., 0., 0., 0., 0., 0., 0., 0., 0., 0., 0., 0.,\n",
       "        0., 0., 0., 0., 0., 0., 0., 0., 0., 0., 0., 0., 0., 0., 0., 0., 0., 0., 0., 0., 0., 0., 0., 0.,\n",
       "        0., 0., 0., 0., 0., 0., 0., 0., 0., 0., 0., 0., 0., 0., 0., 0., 0., 0., 0., 0., 0., 0., 0., 0.,\n",
       "        0., 0., 0., 0., 0., 0., 0., 0., 0., 0., 0., 0., 0., 0., 0., 0., 0., 0., 0., 0., 0., 0., 0., 0.,\n",
       "        0., 0., 0., 0., 0., 0., 0., 0., 0., 0., 0., 0., 0., 0., 0., 0., 0., 0., 0., 0., 0., 0., 0., 0.,\n",
       "        0., 0., 0., 0., 0., 0., 0., 0., 0., 0., 0., 0., 0., 0., 0., 0., 0., 0., 0., 0., 0., 0., 0., 0.,\n",
       "        0., 0., 0., 0., 0., 0., 0., 0., 0., 0., 0., 0., 0., 0., 0., 0., 0., 0., 0., 0., 0., 0., 0., 0.,\n",
       "        0., 0., 0., 0., 0., 0., 0., 0., 0., 0., 0., 0., 0., 0., 0., 0., 0., 0., 0., 0., 0., 0., 0., 0.,\n",
       "        0., 0., 0., 0., 0., 0., 0., 0., 0., 0., 0., 0., 0., 0., 0., 0., 0., 0., 0., 0., 0., 0., 0., 0.,\n",
       "        0., 0., 0., 0., 0., 0., 0., 0., 0., 0., 0., 0., 0., 0., 0., 0., 0., 0., 0., 0., 0., 0., 0., 0.,\n",
       "        0., 0., 0., 0., 0., 0., 0., 0., 0., 0., 0., 0., 0., 0., 0., 0., 0., 0., 0., 0., 0., 0., 0., 0.])"
      ]
     },
     "execution_count": 138,
     "metadata": {},
     "output_type": "execute_result"
    }
   ],
   "source": [
    "mask_padded[3,1,:]"
   ]
  },
  {
   "cell_type": "code",
   "execution_count": 132,
   "metadata": {},
   "outputs": [
    {
     "data": {
      "text/plain": [
       "tensor([1, 2])"
      ]
     },
     "execution_count": 132,
     "metadata": {},
     "output_type": "execute_result"
    }
   ],
   "source": [
    "lens[1:-1]"
   ]
  },
  {
   "cell_type": "code",
   "execution_count": null,
   "metadata": {},
   "outputs": [],
   "source": []
  }
 ],
 "metadata": {
  "kernelspec": {
   "display_name": "local_awe",
   "language": "python",
   "name": "python3"
  },
  "language_info": {
   "codemirror_mode": {
    "name": "ipython",
    "version": 3
   },
   "file_extension": ".py",
   "mimetype": "text/x-python",
   "name": "python",
   "nbconvert_exporter": "python",
   "pygments_lexer": "ipython3",
   "version": "3.10.4"
  },
  "orig_nbformat": 4
 },
 "nbformat": 4,
 "nbformat_minor": 2
}
